{
 "cells": [
  {
   "cell_type": "code",
   "execution_count": 1,
   "id": "1aadfbcd",
   "metadata": {},
   "outputs": [
    {
     "name": "stderr",
     "output_type": "stream",
     "text": [
      "Registered S3 method overwritten by 'quantmod':\n",
      "  method            from\n",
      "  as.zoo.data.frame zoo \n",
      "\n",
      "── \u001b[1mAttaching packages\u001b[22m ────────────────────────────────────────────── fpp2 2.4 ──\n",
      "\n",
      "\u001b[32m✔\u001b[39m \u001b[34mggplot2  \u001b[39m 3.3.6     \u001b[32m✔\u001b[39m \u001b[34mfma      \u001b[39m 2.4  \n",
      "\u001b[32m✔\u001b[39m \u001b[34mforecast \u001b[39m 8.19      \u001b[32m✔\u001b[39m \u001b[34mexpsmooth\u001b[39m 2.3  \n",
      "\n",
      "\n",
      "\n"
     ]
    }
   ],
   "source": [
    "library(fpp2)"
   ]
  },
  {
   "cell_type": "code",
   "execution_count": 2,
   "id": "3c14ea14",
   "metadata": {},
   "outputs": [],
   "source": [
    "Departure <- read.csv(\"Departure.csv\")"
   ]
  },
  {
   "cell_type": "code",
   "execution_count": 3,
   "id": "dc6b8f31",
   "metadata": {},
   "outputs": [],
   "source": [
    "Departure<-Departure[,-1]"
   ]
  },
  {
   "cell_type": "code",
   "execution_count": 4,
   "id": "18c37aef",
   "metadata": {},
   "outputs": [],
   "source": [
    "departures <- ts(Departure, start=c(2010,1), frequency=12)"
   ]
  },
  {
   "cell_type": "code",
   "execution_count": 5,
   "id": "e31e4f28",
   "metadata": {},
   "outputs": [
    {
     "data": {
      "text/html": [
       "<table class=\"dataframe\">\n",
       "<caption>A Time Series: 13 × 12</caption>\n",
       "<thead>\n",
       "\t<tr><th></th><th scope=col>Jan</th><th scope=col>Feb</th><th scope=col>Mar</th><th scope=col>Apr</th><th scope=col>May</th><th scope=col>Jun</th><th scope=col>Jul</th><th scope=col>Aug</th><th scope=col>Sep</th><th scope=col>Oct</th><th scope=col>Nov</th><th scope=col>Dec</th></tr>\n",
       "</thead>\n",
       "<tbody>\n",
       "\t<tr><th scope=row>2010</th><td> 732.4</td><td> 757.2</td><td> 919.6</td><td> 709.5</td><td> 977.9</td><td>1183.1</td><td>1269.5</td><td>1250.5</td><td>1078.7</td><td>1045.8</td><td> 800.7</td><td> 700.5</td></tr>\n",
       "\t<tr><th scope=row>2011</th><td> 729.6</td><td> 724.0</td><td> 869.6</td><td> 987.9</td><td>1084.2</td><td>1198.5</td><td>1288.0</td><td>1247.8</td><td>1070.3</td><td> 978.7</td><td> 774.3</td><td> 754.3</td></tr>\n",
       "\t<tr><th scope=row>2012</th><td> 700.5</td><td> 706.9</td><td> 874.8</td><td> 972.6</td><td>1089.6</td><td>1222.3</td><td>1278.8</td><td>1244.2</td><td>1122.1</td><td>1041.3</td><td> 804.1</td><td> 782.4</td></tr>\n",
       "\t<tr><th scope=row>2013</th><td> 709.5</td><td> 698.7</td><td> 937.3</td><td> 972.3</td><td>1160.2</td><td>1292.1</td><td>1336.7</td><td>1314.3</td><td>1144.2</td><td>1079.9</td><td> 836.5</td><td> 832.7</td></tr>\n",
       "\t<tr><th scope=row>2014</th><td> 764.7</td><td> 742.8</td><td> 892.5</td><td>1112.7</td><td>1223.8</td><td>1361.8</td><td>1418.4</td><td>1403.9</td><td>1231.2</td><td>1179.9</td><td> 925.4</td><td> 912.3</td></tr>\n",
       "\t<tr><th scope=row>2015</th><td> 861.5</td><td> 850.3</td><td>1063.4</td><td>1178.5</td><td>1359.9</td><td>1541.7</td><td>1600.0</td><td>1552.5</td><td>1368.8</td><td>1339.8</td><td>1055.4</td><td>1018.6</td></tr>\n",
       "\t<tr><th scope=row>2016</th><td> 981.7</td><td> 989.0</td><td>1236.5</td><td>1282.8</td><td>1475.7</td><td>1684.6</td><td>1738.7</td><td>1688.9</td><td>1498.6</td><td>1462.3</td><td>1134.9</td><td>1145.3</td></tr>\n",
       "\t<tr><th scope=row>2017</th><td>1057.1</td><td>1020.2</td><td>1227.7</td><td>1438.7</td><td>1530.6</td><td>1761.5</td><td>1828.6</td><td>1778.1</td><td>1583.6</td><td>1505.9</td><td>1203.5</td><td>1204.3</td></tr>\n",
       "\t<tr><th scope=row>2018</th><td>1115.6</td><td>1047.3</td><td>1294.6</td><td>1473.8</td><td>1687.4</td><td>1879.0</td><td>1932.0</td><td>1865.2</td><td>1691.0</td><td>1624.9</td><td>1284.0</td><td>1285.7</td></tr>\n",
       "\t<tr><th scope=row>2019</th><td>1169.3</td><td>1139.1</td><td>1375.4</td><td>1622.6</td><td>1744.0</td><td>1933.4</td><td>2006.9</td><td>1967.5</td><td>1757.4</td><td>1660.1</td><td>1279.1</td><td>1320.2</td></tr>\n",
       "\t<tr><th scope=row>2020</th><td>1183.5</td><td>1161.9</td><td> 575.6</td><td>  12.8</td><td>  24.7</td><td>  53.1</td><td> 239.0</td><td> 275.5</td><td> 203.5</td><td> 143.7</td><td>  85.1</td><td> 156.1</td></tr>\n",
       "\t<tr><th scope=row>2021</th><td> 104.1</td><td>  46.7</td><td>  57.5</td><td>  61.5</td><td>  82.4</td><td> 174.7</td><td> 384.0</td><td> 673.0</td><td> 716.6</td><td> 821.2</td><td> 749.7</td><td> 687.9</td></tr>\n",
       "\t<tr><th scope=row>2022</th><td> 528.4</td><td> 751.9</td><td>1014.7</td><td>1395.1</td><td>1499.1</td><td>1704.0</td><td>1788.2</td><td>1749.6</td><td>1592.2</td><td>      </td><td>      </td><td>      </td></tr>\n",
       "</tbody>\n",
       "</table>\n"
      ],
      "text/latex": [
       "A Time Series: 13 × 12\n",
       "\\begin{tabular}{r|llllllllllll}\n",
       "  & Jan & Feb & Mar & Apr & May & Jun & Jul & Aug & Sep & Oct & Nov & Dec\\\\\n",
       "\\hline\n",
       "\t2010 &  732.4 &  757.2 &  919.6 &  709.5 &  977.9 & 1183.1 & 1269.5 & 1250.5 & 1078.7 & 1045.8 &  800.7 &  700.5\\\\\n",
       "\t2011 &  729.6 &  724.0 &  869.6 &  987.9 & 1084.2 & 1198.5 & 1288.0 & 1247.8 & 1070.3 &  978.7 &  774.3 &  754.3\\\\\n",
       "\t2012 &  700.5 &  706.9 &  874.8 &  972.6 & 1089.6 & 1222.3 & 1278.8 & 1244.2 & 1122.1 & 1041.3 &  804.1 &  782.4\\\\\n",
       "\t2013 &  709.5 &  698.7 &  937.3 &  972.3 & 1160.2 & 1292.1 & 1336.7 & 1314.3 & 1144.2 & 1079.9 &  836.5 &  832.7\\\\\n",
       "\t2014 &  764.7 &  742.8 &  892.5 & 1112.7 & 1223.8 & 1361.8 & 1418.4 & 1403.9 & 1231.2 & 1179.9 &  925.4 &  912.3\\\\\n",
       "\t2015 &  861.5 &  850.3 & 1063.4 & 1178.5 & 1359.9 & 1541.7 & 1600.0 & 1552.5 & 1368.8 & 1339.8 & 1055.4 & 1018.6\\\\\n",
       "\t2016 &  981.7 &  989.0 & 1236.5 & 1282.8 & 1475.7 & 1684.6 & 1738.7 & 1688.9 & 1498.6 & 1462.3 & 1134.9 & 1145.3\\\\\n",
       "\t2017 & 1057.1 & 1020.2 & 1227.7 & 1438.7 & 1530.6 & 1761.5 & 1828.6 & 1778.1 & 1583.6 & 1505.9 & 1203.5 & 1204.3\\\\\n",
       "\t2018 & 1115.6 & 1047.3 & 1294.6 & 1473.8 & 1687.4 & 1879.0 & 1932.0 & 1865.2 & 1691.0 & 1624.9 & 1284.0 & 1285.7\\\\\n",
       "\t2019 & 1169.3 & 1139.1 & 1375.4 & 1622.6 & 1744.0 & 1933.4 & 2006.9 & 1967.5 & 1757.4 & 1660.1 & 1279.1 & 1320.2\\\\\n",
       "\t2020 & 1183.5 & 1161.9 &  575.6 &   12.8 &   24.7 &   53.1 &  239.0 &  275.5 &  203.5 &  143.7 &   85.1 &  156.1\\\\\n",
       "\t2021 &  104.1 &   46.7 &   57.5 &   61.5 &   82.4 &  174.7 &  384.0 &  673.0 &  716.6 &  821.2 &  749.7 &  687.9\\\\\n",
       "\t2022 &  528.4 &  751.9 & 1014.7 & 1395.1 & 1499.1 & 1704.0 & 1788.2 & 1749.6 & 1592.2 &        &        &       \\\\\n",
       "\\end{tabular}\n"
      ],
      "text/markdown": [
       "\n",
       "A Time Series: 13 × 12\n",
       "\n",
       "| <!--/--> | Jan | Feb | Mar | Apr | May | Jun | Jul | Aug | Sep | Oct | Nov | Dec |\n",
       "|---|---|---|---|---|---|---|---|---|---|---|---|---|\n",
       "| 2010 |  732.4 |  757.2 |  919.6 |  709.5 |  977.9 | 1183.1 | 1269.5 | 1250.5 | 1078.7 | 1045.8 |  800.7 |  700.5 |\n",
       "| 2011 |  729.6 |  724.0 |  869.6 |  987.9 | 1084.2 | 1198.5 | 1288.0 | 1247.8 | 1070.3 |  978.7 |  774.3 |  754.3 |\n",
       "| 2012 |  700.5 |  706.9 |  874.8 |  972.6 | 1089.6 | 1222.3 | 1278.8 | 1244.2 | 1122.1 | 1041.3 |  804.1 |  782.4 |\n",
       "| 2013 |  709.5 |  698.7 |  937.3 |  972.3 | 1160.2 | 1292.1 | 1336.7 | 1314.3 | 1144.2 | 1079.9 |  836.5 |  832.7 |\n",
       "| 2014 |  764.7 |  742.8 |  892.5 | 1112.7 | 1223.8 | 1361.8 | 1418.4 | 1403.9 | 1231.2 | 1179.9 |  925.4 |  912.3 |\n",
       "| 2015 |  861.5 |  850.3 | 1063.4 | 1178.5 | 1359.9 | 1541.7 | 1600.0 | 1552.5 | 1368.8 | 1339.8 | 1055.4 | 1018.6 |\n",
       "| 2016 |  981.7 |  989.0 | 1236.5 | 1282.8 | 1475.7 | 1684.6 | 1738.7 | 1688.9 | 1498.6 | 1462.3 | 1134.9 | 1145.3 |\n",
       "| 2017 | 1057.1 | 1020.2 | 1227.7 | 1438.7 | 1530.6 | 1761.5 | 1828.6 | 1778.1 | 1583.6 | 1505.9 | 1203.5 | 1204.3 |\n",
       "| 2018 | 1115.6 | 1047.3 | 1294.6 | 1473.8 | 1687.4 | 1879.0 | 1932.0 | 1865.2 | 1691.0 | 1624.9 | 1284.0 | 1285.7 |\n",
       "| 2019 | 1169.3 | 1139.1 | 1375.4 | 1622.6 | 1744.0 | 1933.4 | 2006.9 | 1967.5 | 1757.4 | 1660.1 | 1279.1 | 1320.2 |\n",
       "| 2020 | 1183.5 | 1161.9 |  575.6 |   12.8 |   24.7 |   53.1 |  239.0 |  275.5 |  203.5 |  143.7 |   85.1 |  156.1 |\n",
       "| 2021 |  104.1 |   46.7 |   57.5 |   61.5 |   82.4 |  174.7 |  384.0 |  673.0 |  716.6 |  821.2 |  749.7 |  687.9 |\n",
       "| 2022 |  528.4 |  751.9 | 1014.7 | 1395.1 | 1499.1 | 1704.0 | 1788.2 | 1749.6 | 1592.2 | <!----> | <!----> | <!----> |\n",
       "\n"
      ],
      "text/plain": [
       "     Jan    Feb    Mar    Apr    May    Jun    Jul    Aug    Sep    Oct   \n",
       "2010  732.4  757.2  919.6  709.5  977.9 1183.1 1269.5 1250.5 1078.7 1045.8\n",
       "2011  729.6  724.0  869.6  987.9 1084.2 1198.5 1288.0 1247.8 1070.3  978.7\n",
       "2012  700.5  706.9  874.8  972.6 1089.6 1222.3 1278.8 1244.2 1122.1 1041.3\n",
       "2013  709.5  698.7  937.3  972.3 1160.2 1292.1 1336.7 1314.3 1144.2 1079.9\n",
       "2014  764.7  742.8  892.5 1112.7 1223.8 1361.8 1418.4 1403.9 1231.2 1179.9\n",
       "2015  861.5  850.3 1063.4 1178.5 1359.9 1541.7 1600.0 1552.5 1368.8 1339.8\n",
       "2016  981.7  989.0 1236.5 1282.8 1475.7 1684.6 1738.7 1688.9 1498.6 1462.3\n",
       "2017 1057.1 1020.2 1227.7 1438.7 1530.6 1761.5 1828.6 1778.1 1583.6 1505.9\n",
       "2018 1115.6 1047.3 1294.6 1473.8 1687.4 1879.0 1932.0 1865.2 1691.0 1624.9\n",
       "2019 1169.3 1139.1 1375.4 1622.6 1744.0 1933.4 2006.9 1967.5 1757.4 1660.1\n",
       "2020 1183.5 1161.9  575.6   12.8   24.7   53.1  239.0  275.5  203.5  143.7\n",
       "2021  104.1   46.7   57.5   61.5   82.4  174.7  384.0  673.0  716.6  821.2\n",
       "2022  528.4  751.9 1014.7 1395.1 1499.1 1704.0 1788.2 1749.6 1592.2       \n",
       "     Nov    Dec   \n",
       "2010  800.7  700.5\n",
       "2011  774.3  754.3\n",
       "2012  804.1  782.4\n",
       "2013  836.5  832.7\n",
       "2014  925.4  912.3\n",
       "2015 1055.4 1018.6\n",
       "2016 1134.9 1145.3\n",
       "2017 1203.5 1204.3\n",
       "2018 1284.0 1285.7\n",
       "2019 1279.1 1320.2\n",
       "2020   85.1  156.1\n",
       "2021  749.7  687.9\n",
       "2022              "
      ]
     },
     "metadata": {},
     "output_type": "display_data"
    }
   ],
   "source": [
    "departures"
   ]
  },
  {
   "cell_type": "code",
   "execution_count": 6,
   "id": "ccb5e053",
   "metadata": {},
   "outputs": [
    {
     "data": {
      "text/html": [
       "<table class=\"dataframe\">\n",
       "<caption>A Time Series: 13 × 12</caption>\n",
       "<thead>\n",
       "\t<tr><th></th><th scope=col>Jan</th><th scope=col>Feb</th><th scope=col>Mar</th><th scope=col>Apr</th><th scope=col>May</th><th scope=col>Jun</th><th scope=col>Jul</th><th scope=col>Aug</th><th scope=col>Sep</th><th scope=col>Oct</th><th scope=col>Nov</th><th scope=col>Dec</th></tr>\n",
       "</thead>\n",
       "<tbody>\n",
       "\t<tr><th scope=row>2010</th><td>2010.000</td><td>2010.083</td><td>2010.167</td><td>2010.250</td><td>2010.333</td><td>2010.417</td><td>2010.500</td><td>2010.583</td><td>2010.667</td><td>2010.750</td><td>2010.833</td><td>2010.917</td></tr>\n",
       "\t<tr><th scope=row>2011</th><td>2011.000</td><td>2011.083</td><td>2011.167</td><td>2011.250</td><td>2011.333</td><td>2011.417</td><td>2011.500</td><td>2011.583</td><td>2011.667</td><td>2011.750</td><td>2011.833</td><td>2011.917</td></tr>\n",
       "\t<tr><th scope=row>2012</th><td>2012.000</td><td>2012.083</td><td>2012.167</td><td>2012.250</td><td>2012.333</td><td>2012.417</td><td>2012.500</td><td>2012.583</td><td>2012.667</td><td>2012.750</td><td>2012.833</td><td>2012.917</td></tr>\n",
       "\t<tr><th scope=row>2013</th><td>2013.000</td><td>2013.083</td><td>2013.167</td><td>2013.250</td><td>2013.333</td><td>2013.417</td><td>2013.500</td><td>2013.583</td><td>2013.667</td><td>2013.750</td><td>2013.833</td><td>2013.917</td></tr>\n",
       "\t<tr><th scope=row>2014</th><td>2014.000</td><td>2014.083</td><td>2014.167</td><td>2014.250</td><td>2014.333</td><td>2014.417</td><td>2014.500</td><td>2014.583</td><td>2014.667</td><td>2014.750</td><td>2014.833</td><td>2014.917</td></tr>\n",
       "\t<tr><th scope=row>2015</th><td>2015.000</td><td>2015.083</td><td>2015.167</td><td>2015.250</td><td>2015.333</td><td>2015.417</td><td>2015.500</td><td>2015.583</td><td>2015.667</td><td>2015.750</td><td>2015.833</td><td>2015.917</td></tr>\n",
       "\t<tr><th scope=row>2016</th><td>2016.000</td><td>2016.083</td><td>2016.167</td><td>2016.250</td><td>2016.333</td><td>2016.417</td><td>2016.500</td><td>2016.583</td><td>2016.667</td><td>2016.750</td><td>2016.833</td><td>2016.917</td></tr>\n",
       "\t<tr><th scope=row>2017</th><td>2017.000</td><td>2017.083</td><td>2017.167</td><td>2017.250</td><td>2017.333</td><td>2017.417</td><td>2017.500</td><td>2017.583</td><td>2017.667</td><td>2017.750</td><td>2017.833</td><td>2017.917</td></tr>\n",
       "\t<tr><th scope=row>2018</th><td>2018.000</td><td>2018.083</td><td>2018.167</td><td>2018.250</td><td>2018.333</td><td>2018.417</td><td>2018.500</td><td>2018.583</td><td>2018.667</td><td>2018.750</td><td>2018.833</td><td>2018.917</td></tr>\n",
       "\t<tr><th scope=row>2019</th><td>2019.000</td><td>2019.083</td><td>2019.167</td><td>2019.250</td><td>2019.333</td><td>2019.417</td><td>2019.500</td><td>2019.583</td><td>2019.667</td><td>2019.750</td><td>2019.833</td><td>2019.917</td></tr>\n",
       "\t<tr><th scope=row>2020</th><td>2020.000</td><td>2020.083</td><td>2020.167</td><td>2020.250</td><td>2020.333</td><td>2020.417</td><td>2020.500</td><td>2020.583</td><td>2020.667</td><td>2020.750</td><td>2020.833</td><td>2020.917</td></tr>\n",
       "\t<tr><th scope=row>2021</th><td>2021.000</td><td>2021.083</td><td>2021.167</td><td>2021.250</td><td>2021.333</td><td>2021.417</td><td>2021.500</td><td>2021.583</td><td>2021.667</td><td>2021.750</td><td>2021.833</td><td>2021.917</td></tr>\n",
       "\t<tr><th scope=row>2022</th><td>2022.000</td><td>2022.083</td><td>2022.167</td><td>2022.250</td><td>2022.333</td><td>2022.417</td><td>2022.500</td><td>2022.583</td><td>2022.667</td><td>        </td><td>        </td><td>        </td></tr>\n",
       "</tbody>\n",
       "</table>\n"
      ],
      "text/latex": [
       "A Time Series: 13 × 12\n",
       "\\begin{tabular}{r|llllllllllll}\n",
       "  & Jan & Feb & Mar & Apr & May & Jun & Jul & Aug & Sep & Oct & Nov & Dec\\\\\n",
       "\\hline\n",
       "\t2010 & 2010.000 & 2010.083 & 2010.167 & 2010.250 & 2010.333 & 2010.417 & 2010.500 & 2010.583 & 2010.667 & 2010.750 & 2010.833 & 2010.917\\\\\n",
       "\t2011 & 2011.000 & 2011.083 & 2011.167 & 2011.250 & 2011.333 & 2011.417 & 2011.500 & 2011.583 & 2011.667 & 2011.750 & 2011.833 & 2011.917\\\\\n",
       "\t2012 & 2012.000 & 2012.083 & 2012.167 & 2012.250 & 2012.333 & 2012.417 & 2012.500 & 2012.583 & 2012.667 & 2012.750 & 2012.833 & 2012.917\\\\\n",
       "\t2013 & 2013.000 & 2013.083 & 2013.167 & 2013.250 & 2013.333 & 2013.417 & 2013.500 & 2013.583 & 2013.667 & 2013.750 & 2013.833 & 2013.917\\\\\n",
       "\t2014 & 2014.000 & 2014.083 & 2014.167 & 2014.250 & 2014.333 & 2014.417 & 2014.500 & 2014.583 & 2014.667 & 2014.750 & 2014.833 & 2014.917\\\\\n",
       "\t2015 & 2015.000 & 2015.083 & 2015.167 & 2015.250 & 2015.333 & 2015.417 & 2015.500 & 2015.583 & 2015.667 & 2015.750 & 2015.833 & 2015.917\\\\\n",
       "\t2016 & 2016.000 & 2016.083 & 2016.167 & 2016.250 & 2016.333 & 2016.417 & 2016.500 & 2016.583 & 2016.667 & 2016.750 & 2016.833 & 2016.917\\\\\n",
       "\t2017 & 2017.000 & 2017.083 & 2017.167 & 2017.250 & 2017.333 & 2017.417 & 2017.500 & 2017.583 & 2017.667 & 2017.750 & 2017.833 & 2017.917\\\\\n",
       "\t2018 & 2018.000 & 2018.083 & 2018.167 & 2018.250 & 2018.333 & 2018.417 & 2018.500 & 2018.583 & 2018.667 & 2018.750 & 2018.833 & 2018.917\\\\\n",
       "\t2019 & 2019.000 & 2019.083 & 2019.167 & 2019.250 & 2019.333 & 2019.417 & 2019.500 & 2019.583 & 2019.667 & 2019.750 & 2019.833 & 2019.917\\\\\n",
       "\t2020 & 2020.000 & 2020.083 & 2020.167 & 2020.250 & 2020.333 & 2020.417 & 2020.500 & 2020.583 & 2020.667 & 2020.750 & 2020.833 & 2020.917\\\\\n",
       "\t2021 & 2021.000 & 2021.083 & 2021.167 & 2021.250 & 2021.333 & 2021.417 & 2021.500 & 2021.583 & 2021.667 & 2021.750 & 2021.833 & 2021.917\\\\\n",
       "\t2022 & 2022.000 & 2022.083 & 2022.167 & 2022.250 & 2022.333 & 2022.417 & 2022.500 & 2022.583 & 2022.667 &          &          &         \\\\\n",
       "\\end{tabular}\n"
      ],
      "text/markdown": [
       "\n",
       "A Time Series: 13 × 12\n",
       "\n",
       "| <!--/--> | Jan | Feb | Mar | Apr | May | Jun | Jul | Aug | Sep | Oct | Nov | Dec |\n",
       "|---|---|---|---|---|---|---|---|---|---|---|---|---|\n",
       "| 2010 | 2010.000 | 2010.083 | 2010.167 | 2010.250 | 2010.333 | 2010.417 | 2010.500 | 2010.583 | 2010.667 | 2010.750 | 2010.833 | 2010.917 |\n",
       "| 2011 | 2011.000 | 2011.083 | 2011.167 | 2011.250 | 2011.333 | 2011.417 | 2011.500 | 2011.583 | 2011.667 | 2011.750 | 2011.833 | 2011.917 |\n",
       "| 2012 | 2012.000 | 2012.083 | 2012.167 | 2012.250 | 2012.333 | 2012.417 | 2012.500 | 2012.583 | 2012.667 | 2012.750 | 2012.833 | 2012.917 |\n",
       "| 2013 | 2013.000 | 2013.083 | 2013.167 | 2013.250 | 2013.333 | 2013.417 | 2013.500 | 2013.583 | 2013.667 | 2013.750 | 2013.833 | 2013.917 |\n",
       "| 2014 | 2014.000 | 2014.083 | 2014.167 | 2014.250 | 2014.333 | 2014.417 | 2014.500 | 2014.583 | 2014.667 | 2014.750 | 2014.833 | 2014.917 |\n",
       "| 2015 | 2015.000 | 2015.083 | 2015.167 | 2015.250 | 2015.333 | 2015.417 | 2015.500 | 2015.583 | 2015.667 | 2015.750 | 2015.833 | 2015.917 |\n",
       "| 2016 | 2016.000 | 2016.083 | 2016.167 | 2016.250 | 2016.333 | 2016.417 | 2016.500 | 2016.583 | 2016.667 | 2016.750 | 2016.833 | 2016.917 |\n",
       "| 2017 | 2017.000 | 2017.083 | 2017.167 | 2017.250 | 2017.333 | 2017.417 | 2017.500 | 2017.583 | 2017.667 | 2017.750 | 2017.833 | 2017.917 |\n",
       "| 2018 | 2018.000 | 2018.083 | 2018.167 | 2018.250 | 2018.333 | 2018.417 | 2018.500 | 2018.583 | 2018.667 | 2018.750 | 2018.833 | 2018.917 |\n",
       "| 2019 | 2019.000 | 2019.083 | 2019.167 | 2019.250 | 2019.333 | 2019.417 | 2019.500 | 2019.583 | 2019.667 | 2019.750 | 2019.833 | 2019.917 |\n",
       "| 2020 | 2020.000 | 2020.083 | 2020.167 | 2020.250 | 2020.333 | 2020.417 | 2020.500 | 2020.583 | 2020.667 | 2020.750 | 2020.833 | 2020.917 |\n",
       "| 2021 | 2021.000 | 2021.083 | 2021.167 | 2021.250 | 2021.333 | 2021.417 | 2021.500 | 2021.583 | 2021.667 | 2021.750 | 2021.833 | 2021.917 |\n",
       "| 2022 | 2022.000 | 2022.083 | 2022.167 | 2022.250 | 2022.333 | 2022.417 | 2022.500 | 2022.583 | 2022.667 | <!----> | <!----> | <!----> |\n",
       "\n"
      ],
      "text/plain": [
       "     Jan      Feb      Mar      Apr      May      Jun      Jul      Aug     \n",
       "2010 2010.000 2010.083 2010.167 2010.250 2010.333 2010.417 2010.500 2010.583\n",
       "2011 2011.000 2011.083 2011.167 2011.250 2011.333 2011.417 2011.500 2011.583\n",
       "2012 2012.000 2012.083 2012.167 2012.250 2012.333 2012.417 2012.500 2012.583\n",
       "2013 2013.000 2013.083 2013.167 2013.250 2013.333 2013.417 2013.500 2013.583\n",
       "2014 2014.000 2014.083 2014.167 2014.250 2014.333 2014.417 2014.500 2014.583\n",
       "2015 2015.000 2015.083 2015.167 2015.250 2015.333 2015.417 2015.500 2015.583\n",
       "2016 2016.000 2016.083 2016.167 2016.250 2016.333 2016.417 2016.500 2016.583\n",
       "2017 2017.000 2017.083 2017.167 2017.250 2017.333 2017.417 2017.500 2017.583\n",
       "2018 2018.000 2018.083 2018.167 2018.250 2018.333 2018.417 2018.500 2018.583\n",
       "2019 2019.000 2019.083 2019.167 2019.250 2019.333 2019.417 2019.500 2019.583\n",
       "2020 2020.000 2020.083 2020.167 2020.250 2020.333 2020.417 2020.500 2020.583\n",
       "2021 2021.000 2021.083 2021.167 2021.250 2021.333 2021.417 2021.500 2021.583\n",
       "2022 2022.000 2022.083 2022.167 2022.250 2022.333 2022.417 2022.500 2022.583\n",
       "     Sep      Oct      Nov      Dec     \n",
       "2010 2010.667 2010.750 2010.833 2010.917\n",
       "2011 2011.667 2011.750 2011.833 2011.917\n",
       "2012 2012.667 2012.750 2012.833 2012.917\n",
       "2013 2013.667 2013.750 2013.833 2013.917\n",
       "2014 2014.667 2014.750 2014.833 2014.917\n",
       "2015 2015.667 2015.750 2015.833 2015.917\n",
       "2016 2016.667 2016.750 2016.833 2016.917\n",
       "2017 2017.667 2017.750 2017.833 2017.917\n",
       "2018 2018.667 2018.750 2018.833 2018.917\n",
       "2019 2019.667 2019.750 2019.833 2019.917\n",
       "2020 2020.667 2020.750 2020.833 2020.917\n",
       "2021 2021.667 2021.750 2021.833 2021.917\n",
       "2022 2022.667                           "
      ]
     },
     "metadata": {},
     "output_type": "display_data"
    }
   ],
   "source": [
    "time(departures)"
   ]
  },
  {
   "cell_type": "code",
   "execution_count": 7,
   "id": "affa7d86",
   "metadata": {},
   "outputs": [
    {
     "data": {
      "text/html": [
       "<table class=\"dataframe\">\n",
       "<caption>A Time Series: 13 × 12</caption>\n",
       "<thead>\n",
       "\t<tr><th></th><th scope=col>Jan</th><th scope=col>Feb</th><th scope=col>Mar</th><th scope=col>Apr</th><th scope=col>May</th><th scope=col>Jun</th><th scope=col>Jul</th><th scope=col>Aug</th><th scope=col>Sep</th><th scope=col>Oct</th><th scope=col>Nov</th><th scope=col>Dec</th></tr>\n",
       "</thead>\n",
       "<tbody>\n",
       "\t<tr><th scope=row>2010</th><td> 1</td><td> 2</td><td> 3</td><td> 4</td><td> 5</td><td> 6</td><td> 7</td><td> 8</td><td> 9</td><td>10</td><td>11</td><td>12</td></tr>\n",
       "\t<tr><th scope=row>2011</th><td> 1</td><td> 2</td><td> 3</td><td> 4</td><td> 5</td><td> 6</td><td> 7</td><td> 8</td><td> 9</td><td>10</td><td>11</td><td>12</td></tr>\n",
       "\t<tr><th scope=row>2012</th><td> 1</td><td> 2</td><td> 3</td><td> 4</td><td> 5</td><td> 6</td><td> 7</td><td> 8</td><td> 9</td><td>10</td><td>11</td><td>12</td></tr>\n",
       "\t<tr><th scope=row>2013</th><td> 1</td><td> 2</td><td> 3</td><td> 4</td><td> 5</td><td> 6</td><td> 7</td><td> 8</td><td> 9</td><td>10</td><td>11</td><td>12</td></tr>\n",
       "\t<tr><th scope=row>2014</th><td> 1</td><td> 2</td><td> 3</td><td> 4</td><td> 5</td><td> 6</td><td> 7</td><td> 8</td><td> 9</td><td>10</td><td>11</td><td>12</td></tr>\n",
       "\t<tr><th scope=row>2015</th><td> 1</td><td> 2</td><td> 3</td><td> 4</td><td> 5</td><td> 6</td><td> 7</td><td> 8</td><td> 9</td><td>10</td><td>11</td><td>12</td></tr>\n",
       "\t<tr><th scope=row>2016</th><td> 1</td><td> 2</td><td> 3</td><td> 4</td><td> 5</td><td> 6</td><td> 7</td><td> 8</td><td> 9</td><td>10</td><td>11</td><td>12</td></tr>\n",
       "\t<tr><th scope=row>2017</th><td> 1</td><td> 2</td><td> 3</td><td> 4</td><td> 5</td><td> 6</td><td> 7</td><td> 8</td><td> 9</td><td>10</td><td>11</td><td>12</td></tr>\n",
       "\t<tr><th scope=row>2018</th><td> 1</td><td> 2</td><td> 3</td><td> 4</td><td> 5</td><td> 6</td><td> 7</td><td> 8</td><td> 9</td><td>10</td><td>11</td><td>12</td></tr>\n",
       "\t<tr><th scope=row>2019</th><td> 1</td><td> 2</td><td> 3</td><td> 4</td><td> 5</td><td> 6</td><td> 7</td><td> 8</td><td> 9</td><td>10</td><td>11</td><td>12</td></tr>\n",
       "\t<tr><th scope=row>2020</th><td> 1</td><td> 2</td><td> 3</td><td> 4</td><td> 5</td><td> 6</td><td> 7</td><td> 8</td><td> 9</td><td>10</td><td>11</td><td>12</td></tr>\n",
       "\t<tr><th scope=row>2021</th><td> 1</td><td> 2</td><td> 3</td><td> 4</td><td> 5</td><td> 6</td><td> 7</td><td> 8</td><td> 9</td><td>10</td><td>11</td><td>12</td></tr>\n",
       "\t<tr><th scope=row>2022</th><td> 1</td><td> 2</td><td> 3</td><td> 4</td><td> 5</td><td> 6</td><td> 7</td><td> 8</td><td> 9</td><td>  </td><td>  </td><td>  </td></tr>\n",
       "</tbody>\n",
       "</table>\n"
      ],
      "text/latex": [
       "A Time Series: 13 × 12\n",
       "\\begin{tabular}{r|llllllllllll}\n",
       "  & Jan & Feb & Mar & Apr & May & Jun & Jul & Aug & Sep & Oct & Nov & Dec\\\\\n",
       "\\hline\n",
       "\t2010 &  1 &  2 &  3 &  4 &  5 &  6 &  7 &  8 &  9 & 10 & 11 & 12\\\\\n",
       "\t2011 &  1 &  2 &  3 &  4 &  5 &  6 &  7 &  8 &  9 & 10 & 11 & 12\\\\\n",
       "\t2012 &  1 &  2 &  3 &  4 &  5 &  6 &  7 &  8 &  9 & 10 & 11 & 12\\\\\n",
       "\t2013 &  1 &  2 &  3 &  4 &  5 &  6 &  7 &  8 &  9 & 10 & 11 & 12\\\\\n",
       "\t2014 &  1 &  2 &  3 &  4 &  5 &  6 &  7 &  8 &  9 & 10 & 11 & 12\\\\\n",
       "\t2015 &  1 &  2 &  3 &  4 &  5 &  6 &  7 &  8 &  9 & 10 & 11 & 12\\\\\n",
       "\t2016 &  1 &  2 &  3 &  4 &  5 &  6 &  7 &  8 &  9 & 10 & 11 & 12\\\\\n",
       "\t2017 &  1 &  2 &  3 &  4 &  5 &  6 &  7 &  8 &  9 & 10 & 11 & 12\\\\\n",
       "\t2018 &  1 &  2 &  3 &  4 &  5 &  6 &  7 &  8 &  9 & 10 & 11 & 12\\\\\n",
       "\t2019 &  1 &  2 &  3 &  4 &  5 &  6 &  7 &  8 &  9 & 10 & 11 & 12\\\\\n",
       "\t2020 &  1 &  2 &  3 &  4 &  5 &  6 &  7 &  8 &  9 & 10 & 11 & 12\\\\\n",
       "\t2021 &  1 &  2 &  3 &  4 &  5 &  6 &  7 &  8 &  9 & 10 & 11 & 12\\\\\n",
       "\t2022 &  1 &  2 &  3 &  4 &  5 &  6 &  7 &  8 &  9 &    &    &   \\\\\n",
       "\\end{tabular}\n"
      ],
      "text/markdown": [
       "\n",
       "A Time Series: 13 × 12\n",
       "\n",
       "| <!--/--> | Jan | Feb | Mar | Apr | May | Jun | Jul | Aug | Sep | Oct | Nov | Dec |\n",
       "|---|---|---|---|---|---|---|---|---|---|---|---|---|\n",
       "| 2010 |  1 |  2 |  3 |  4 |  5 |  6 |  7 |  8 |  9 | 10 | 11 | 12 |\n",
       "| 2011 |  1 |  2 |  3 |  4 |  5 |  6 |  7 |  8 |  9 | 10 | 11 | 12 |\n",
       "| 2012 |  1 |  2 |  3 |  4 |  5 |  6 |  7 |  8 |  9 | 10 | 11 | 12 |\n",
       "| 2013 |  1 |  2 |  3 |  4 |  5 |  6 |  7 |  8 |  9 | 10 | 11 | 12 |\n",
       "| 2014 |  1 |  2 |  3 |  4 |  5 |  6 |  7 |  8 |  9 | 10 | 11 | 12 |\n",
       "| 2015 |  1 |  2 |  3 |  4 |  5 |  6 |  7 |  8 |  9 | 10 | 11 | 12 |\n",
       "| 2016 |  1 |  2 |  3 |  4 |  5 |  6 |  7 |  8 |  9 | 10 | 11 | 12 |\n",
       "| 2017 |  1 |  2 |  3 |  4 |  5 |  6 |  7 |  8 |  9 | 10 | 11 | 12 |\n",
       "| 2018 |  1 |  2 |  3 |  4 |  5 |  6 |  7 |  8 |  9 | 10 | 11 | 12 |\n",
       "| 2019 |  1 |  2 |  3 |  4 |  5 |  6 |  7 |  8 |  9 | 10 | 11 | 12 |\n",
       "| 2020 |  1 |  2 |  3 |  4 |  5 |  6 |  7 |  8 |  9 | 10 | 11 | 12 |\n",
       "| 2021 |  1 |  2 |  3 |  4 |  5 |  6 |  7 |  8 |  9 | 10 | 11 | 12 |\n",
       "| 2022 |  1 |  2 |  3 |  4 |  5 |  6 |  7 |  8 |  9 | <!----> | <!----> | <!----> |\n",
       "\n"
      ],
      "text/plain": [
       "     Jan Feb Mar Apr May Jun Jul Aug Sep Oct Nov Dec\n",
       "2010  1   2   3   4   5   6   7   8   9  10  11  12 \n",
       "2011  1   2   3   4   5   6   7   8   9  10  11  12 \n",
       "2012  1   2   3   4   5   6   7   8   9  10  11  12 \n",
       "2013  1   2   3   4   5   6   7   8   9  10  11  12 \n",
       "2014  1   2   3   4   5   6   7   8   9  10  11  12 \n",
       "2015  1   2   3   4   5   6   7   8   9  10  11  12 \n",
       "2016  1   2   3   4   5   6   7   8   9  10  11  12 \n",
       "2017  1   2   3   4   5   6   7   8   9  10  11  12 \n",
       "2018  1   2   3   4   5   6   7   8   9  10  11  12 \n",
       "2019  1   2   3   4   5   6   7   8   9  10  11  12 \n",
       "2020  1   2   3   4   5   6   7   8   9  10  11  12 \n",
       "2021  1   2   3   4   5   6   7   8   9  10  11  12 \n",
       "2022  1   2   3   4   5   6   7   8   9             "
      ]
     },
     "metadata": {},
     "output_type": "display_data"
    }
   ],
   "source": [
    "cycle(departures)"
   ]
  },
  {
   "cell_type": "code",
   "execution_count": 8,
   "id": "c7def259",
   "metadata": {},
   "outputs": [
    {
     "data": {
      "text/html": [
       "<style>\n",
       ".list-inline {list-style: none; margin:0; padding: 0}\n",
       ".list-inline>li {display: inline-block}\n",
       ".list-inline>li:not(:last-child)::after {content: \"\\00b7\"; padding: 0 .5ex}\n",
       "</style>\n",
       "<ol class=list-inline><li>2010</li><li>1</li></ol>\n"
      ],
      "text/latex": [
       "\\begin{enumerate*}\n",
       "\\item 2010\n",
       "\\item 1\n",
       "\\end{enumerate*}\n"
      ],
      "text/markdown": [
       "1. 2010\n",
       "2. 1\n",
       "\n",
       "\n"
      ],
      "text/plain": [
       "[1] 2010    1"
      ]
     },
     "metadata": {},
     "output_type": "display_data"
    }
   ],
   "source": [
    "start(departures)"
   ]
  },
  {
   "cell_type": "code",
   "execution_count": 9,
   "id": "14f660b6",
   "metadata": {},
   "outputs": [
    {
     "data": {
      "text/html": [
       "<style>\n",
       ".list-inline {list-style: none; margin:0; padding: 0}\n",
       ".list-inline>li {display: inline-block}\n",
       ".list-inline>li:not(:last-child)::after {content: \"\\00b7\"; padding: 0 .5ex}\n",
       "</style>\n",
       "<ol class=list-inline><li>2022</li><li>9</li></ol>\n"
      ],
      "text/latex": [
       "\\begin{enumerate*}\n",
       "\\item 2022\n",
       "\\item 9\n",
       "\\end{enumerate*}\n"
      ],
      "text/markdown": [
       "1. 2022\n",
       "2. 9\n",
       "\n",
       "\n"
      ],
      "text/plain": [
       "[1] 2022    9"
      ]
     },
     "metadata": {},
     "output_type": "display_data"
    }
   ],
   "source": [
    "end(departures)"
   ]
  },
  {
   "cell_type": "code",
   "execution_count": 10,
   "id": "d5fae1a2",
   "metadata": {},
   "outputs": [
    {
     "data": {
      "text/html": [
       "12"
      ],
      "text/latex": [
       "12"
      ],
      "text/markdown": [
       "12"
      ],
      "text/plain": [
       "[1] 12"
      ]
     },
     "metadata": {},
     "output_type": "display_data"
    }
   ],
   "source": [
    "frequency(departures)"
   ]
  },
  {
   "cell_type": "code",
   "execution_count": 11,
   "id": "b1d8e56c",
   "metadata": {},
   "outputs": [
    {
     "data": {
      "image/png": "[encoded data removed]",
      "text/plain": [
       "plot without title"
      ]
     },
     "metadata": {
      "image/png": {
       "height": 420,
       "width": 420
      }
     },
     "output_type": "display_data"
    }
   ],
   "source": [
    "plot(departures)\n",
    "#A trend is seen except for the years affected by covid"
   ]
  },
  {
   "cell_type": "code",
   "execution_count": 12,
   "id": "cc194739",
   "metadata": {},
   "outputs": [
    {
     "data": {
      "image/png": "[encoded data removed]",
      "text/plain": [
       "plot without title"
      ]
     },
     "metadata": {
      "image/png": {
       "height": 420,
       "width": 420
      }
     },
     "output_type": "display_data"
    }
   ],
   "source": [
    "plot(departures, pch=16, type='b', col='blue')\n",
    "grid(, col='darkgrey', nx=25)"
   ]
  },
  {
   "cell_type": "code",
   "execution_count": 13,
   "id": "eef25d60",
   "metadata": {},
   "outputs": [
    {
     "data": {
      "image/png": "[encoded data removed]",
      "text/plain": [
       "plot without title"
      ]
     },
     "metadata": {
      "image/png": {
       "height": 420,
       "width": 420
      }
     },
     "output_type": "display_data"
    }
   ],
   "source": [
    "ggseasonplot(departures)+theme_bw()\n",
    "#There also seems to be a seasonality"
   ]
  },
  {
   "cell_type": "code",
   "execution_count": 14,
   "id": "3f63b1bd",
   "metadata": {},
   "outputs": [
    {
     "data": {
      "image/png": "[encoded data removed]",
      "text/plain": [
       "plot without title"
      ]
     },
     "metadata": {
      "image/png": {
       "height": 420,
       "width": 420
      }
     },
     "output_type": "display_data"
    }
   ],
   "source": [
    "ggseasonplot(departures, polar=TRUE)"
   ]
  },
  {
   "cell_type": "markdown",
   "id": "759a96d5",
   "metadata": {},
   "source": [
    "### Monthly Range of AirPassengers"
   ]
  },
  {
   "cell_type": "code",
   "execution_count": 15,
   "id": "05a6c093",
   "metadata": {},
   "outputs": [
    {
     "data": {
      "image/png": "[encoded data removed]",
      "text/plain": [
       "plot without title"
      ]
     },
     "metadata": {
      "image/png": {
       "height": 420,
       "width": 420
      }
     },
     "output_type": "display_data"
    }
   ],
   "source": [
    "boxplot(departures~cycle(departures), col='lightblue')\n",
    "#The outliers in jan-march are for the year 2021 when lockdown was still in effect\n",
    "#Two outliers in april-july (2020 and 2021)\n",
    "#number of flights started increasing august 2021 onwards so only one outlier for august-november"
   ]
  },
  {
   "cell_type": "markdown",
   "id": "158eb9e8",
   "metadata": {},
   "source": [
    "### Yearly Range of AirPassengers"
   ]
  },
  {
   "cell_type": "code",
   "execution_count": 16,
   "id": "31495c4b",
   "metadata": {
    "scrolled": true
   },
   "outputs": [
    {
     "data": {
      "image/png": "[encoded data removed]",
      "text/plain": [
       "plot without title"
      ]
     },
     "metadata": {
      "image/png": {
       "height": 420,
       "width": 420
      }
     },
     "output_type": "display_data"
    }
   ],
   "source": [
    "boxplot(departures~floor(time(departures)), col='lightblue')\n",
    "#Two outliers in 2020, the outliers are jan and feb when restriction were not put"
   ]
  },
  {
   "cell_type": "code",
   "execution_count": 17,
   "id": "06bb4bf7",
   "metadata": {
    "scrolled": false
   },
   "outputs": [
    {
     "data": {
      "image/png": "[encoded data removed]",
      "text/plain": [
       "Plot with title \"AirPassengers with Trend\""
      ]
     },
     "metadata": {
      "image/png": {
       "height": 420,
       "width": 420
      }
     },
     "output_type": "display_data"
    }
   ],
   "source": [
    "plot(departures, main='AirPassengers with Trend')\n",
    "x <- as.vector(time(departures))\n",
    "y <- ma(departures, order=12)\n",
    "lines(x, y, col='red', lw=3)\n",
    "#Seasonal variations are rougly propotional with respect to trend"
   ]
  },
  {
   "cell_type": "markdown",
   "id": "23b08ce4",
   "metadata": {},
   "source": [
    "### Additive Decomposition"
   ]
  },
  {
   "cell_type": "code",
   "execution_count": 18,
   "id": "21d9ece6",
   "metadata": {},
   "outputs": [],
   "source": [
    "fit.add <- decompose(departures, type='additive')"
   ]
  },
  {
   "cell_type": "code",
   "execution_count": 19,
   "id": "c75a5bff",
   "metadata": {},
   "outputs": [
    {
     "data": {
      "image/png": "[encoded data removed]",
      "text/plain": [
       "plot without title"
      ]
     },
     "metadata": {
      "image/png": {
       "height": 420,
       "width": 420
      }
     },
     "output_type": "display_data"
    }
   ],
   "source": [
    "plot(fit.add)"
   ]
  },
  {
   "cell_type": "markdown",
   "id": "1128fb60",
   "metadata": {},
   "source": [
    "### Multiplicative Decomposition"
   ]
  },
  {
   "cell_type": "code",
   "execution_count": 20,
   "id": "69866a29",
   "metadata": {},
   "outputs": [],
   "source": [
    "fit.mult <- decompose(departures, type='multiplicative')"
   ]
  },
  {
   "cell_type": "code",
   "execution_count": 21,
   "id": "3201559f",
   "metadata": {},
   "outputs": [
    {
     "data": {
      "image/png": "[encoded data removed]",
      "text/plain": [
       "plot without title"
      ]
     },
     "metadata": {
      "image/png": {
       "height": 420,
       "width": 420
      }
     },
     "output_type": "display_data"
    }
   ],
   "source": [
    "plot(fit.mult)\n",
    "#Random is smoother in multiplicative Decomposition, seasonality is proportional to trend"
   ]
  },
  {
   "cell_type": "markdown",
   "id": "542fb387",
   "metadata": {},
   "source": [
    "### STL Decomposition"
   ]
  },
  {
   "cell_type": "code",
   "execution_count": 22,
   "id": "4a17ca64",
   "metadata": {},
   "outputs": [],
   "source": [
    "fit.stl <- stl(departures, s.window=\"periodic\")"
   ]
  },
  {
   "cell_type": "code",
   "execution_count": 23,
   "id": "0d936de7",
   "metadata": {},
   "outputs": [
    {
     "data": {
      "image/png": "[encoded data removed]",
      "text/plain": [
       "plot without title"
      ]
     },
     "metadata": {
      "image/png": {
       "height": 420,
       "width": 420
      }
     },
     "output_type": "display_data"
    }
   ],
   "source": [
    "plot(fit.stl)"
   ]
  },
  {
   "cell_type": "markdown",
   "id": "2d1fe731",
   "metadata": {},
   "source": [
    "### X11 Decomposition"
   ]
  },
  {
   "cell_type": "code",
   "execution_count": 24,
   "id": "5cf8e187",
   "metadata": {},
   "outputs": [],
   "source": [
    "library(seasonal)"
   ]
  },
  {
   "cell_type": "code",
   "execution_count": 25,
   "id": "18ec13bd",
   "metadata": {},
   "outputs": [],
   "source": [
    "fit.X11 <- seas(departures,transform.function=\"none\",x11=\"\")"
   ]
  },
  {
   "cell_type": "code",
   "execution_count": 26,
   "id": "fea527d2",
   "metadata": {},
   "outputs": [
    {
     "data": {
      "image/png": "[encoded data removed]",
      "text/plain": [
       "plot without title"
      ]
     },
     "metadata": {
      "image/png": {
       "height": 420,
       "width": 420
      }
     },
     "output_type": "display_data"
    }
   ],
   "source": [
    "autoplot(fit.X11)"
   ]
  },
  {
   "cell_type": "code",
   "execution_count": 27,
   "id": "b234c359",
   "metadata": {},
   "outputs": [
    {
     "data": {
      "text/plain": [
       "\n",
       "Call:\n",
       "seas(x = departures, transform.function = \"none\", x11 = \"\")\n",
       "\n",
       "Coefficients:\n",
       "                    Estimate Std. Error z value Pr(>|z|)    \n",
       "Leap Year           21.59570   13.41525   1.610   0.1074    \n",
       "Weekday             -1.77327    0.67177  -2.640   0.0083 ** \n",
       "Easter[15]          63.50930    6.91033   9.190  < 2e-16 ***\n",
       "LS2010.Apr        -231.88922   49.03297  -4.729 2.25e-06 ***\n",
       "LS2019.Nov        -192.64771   33.14472  -5.812 6.16e-09 ***\n",
       "LS2020.Mar        -820.32870   44.30789 -18.514  < 2e-16 ***\n",
       "LS2020.Apr        -796.15721   40.47483 -19.670  < 2e-16 ***\n",
       "LS2021.Mar        -286.69039   41.85589  -6.849 7.41e-12 ***\n",
       "LS2021.Apr        -195.38933   42.20210  -4.630 3.66e-06 ***\n",
       "LS2021.Aug         256.50747   33.89944   7.567 3.83e-14 ***\n",
       "LS2022.Feb         301.26034   48.36276   6.229 4.69e-10 ***\n",
       "AO2022.Sep        -203.88540   50.56217  -4.032 5.52e-05 ***\n",
       "MA-Nonseasonal-01   -0.31592    0.07999  -3.950 7.82e-05 ***\n",
       "---\n",
       "Signif. codes:  0 '***' 0.001 '**' 0.01 '*' 0.05 '.' 0.1 ' ' 1\n",
       "\n",
       "X11 adj.  ARIMA: (0 1 1)(0 1 0)  Obs.: 153  Transform: none\n",
       "AICc:  1520, BIC:  1558  QS (no seasonality in final):14.44 ***\n",
       "Box-Ljung (no autocorr.):  35.1 . Shapiro (normality): 0.9417 ***\n",
       "Messages generated by X-13:\n",
       "Warnings:\n",
       "- At least one visually significant trading day peak has been\n",
       "  found in one or more of the estimated spectra.\n",
       "\n"
      ]
     },
     "metadata": {},
     "output_type": "display_data"
    }
   ],
   "source": [
    "summary(fit.X11)"
   ]
  },
  {
   "cell_type": "code",
   "execution_count": 28,
   "id": "b4bdb6a8",
   "metadata": {},
   "outputs": [],
   "source": [
    "fit.X11Auto <- seas(departures,transform.function=\"auto\",x11=\"\")\n",
    "# This applies automatically a log transformation, and hence calculates a multiplicative decomposition. "
   ]
  },
  {
   "cell_type": "code",
   "execution_count": 29,
   "id": "19648f39",
   "metadata": {},
   "outputs": [
    {
     "data": {
      "image/png": "[encoded data removed]",
      "text/plain": [
       "plot without title"
      ]
     },
     "metadata": {
      "image/png": {
       "height": 420,
       "width": 420
      }
     },
     "output_type": "display_data"
    }
   ],
   "source": [
    "autoplot(fit.X11Auto)"
   ]
  },
  {
   "cell_type": "code",
   "execution_count": 30,
   "id": "894683e6",
   "metadata": {},
   "outputs": [
    {
     "data": {
      "text/plain": [
       "\n",
       "Call:\n",
       "seas(x = departures, transform.function = \"auto\", x11 = \"\")\n",
       "\n",
       "Coefficients:\n",
       "                    Estimate Std. Error z value Pr(>|z|)    \n",
       "Leap Year           21.59570   13.41525   1.610   0.1074    \n",
       "Weekday             -1.77327    0.67177  -2.640   0.0083 ** \n",
       "Easter[15]          63.50930    6.91033   9.190  < 2e-16 ***\n",
       "LS2010.Apr        -231.88922   49.03297  -4.729 2.25e-06 ***\n",
       "LS2019.Nov        -192.64771   33.14472  -5.812 6.16e-09 ***\n",
       "LS2020.Mar        -820.32870   44.30789 -18.514  < 2e-16 ***\n",
       "LS2020.Apr        -796.15721   40.47483 -19.670  < 2e-16 ***\n",
       "LS2021.Mar        -286.69039   41.85589  -6.849 7.41e-12 ***\n",
       "LS2021.Apr        -195.38933   42.20210  -4.630 3.66e-06 ***\n",
       "LS2021.Aug         256.50747   33.89944   7.567 3.83e-14 ***\n",
       "LS2022.Feb         301.26034   48.36276   6.229 4.69e-10 ***\n",
       "AO2022.Sep        -203.88540   50.56217  -4.032 5.52e-05 ***\n",
       "MA-Nonseasonal-01   -0.31592    0.07999  -3.950 7.82e-05 ***\n",
       "---\n",
       "Signif. codes:  0 '***' 0.001 '**' 0.01 '*' 0.05 '.' 0.1 ' ' 1\n",
       "\n",
       "X11 adj.  ARIMA: (0 1 1)(0 1 0)  Obs.: 153  Transform: none\n",
       "AICc:  1520, BIC:  1558  QS (no seasonality in final):14.44 ***\n",
       "Box-Ljung (no autocorr.):  35.1 . Shapiro (normality): 0.9417 ***\n",
       "Messages generated by X-13:\n",
       "Warnings:\n",
       "- At least one visually significant trading day peak has been\n",
       "  found in one or more of the estimated spectra.\n",
       "\n"
      ]
     },
     "metadata": {},
     "output_type": "display_data"
    }
   ],
   "source": [
    "summary(fit.X11Auto)"
   ]
  },
  {
   "cell_type": "markdown",
   "id": "25a330c2",
   "metadata": {},
   "source": [
    "# Forecasting"
   ]
  },
  {
   "cell_type": "markdown",
   "id": "d098755d",
   "metadata": {},
   "source": [
    "### Simple Model (Naive Model)"
   ]
  },
  {
   "cell_type": "code",
   "execution_count": 31,
   "id": "e5f73d1b",
   "metadata": {},
   "outputs": [],
   "source": [
    "fcast.naive <- naive(departures[1:132],h=6)"
   ]
  },
  {
   "cell_type": "code",
   "execution_count": 32,
   "id": "f441ff48",
   "metadata": {},
   "outputs": [
    {
     "data": {
      "text/plain": [
       "    Point Forecast      Lo 80    Hi 80     Lo 95    Hi 95\n",
       "133          156.1  -48.34283 360.5428 -156.5683 468.7683\n",
       "134          156.1 -133.02583 445.2258 -286.0798 598.2798\n",
       "135          156.1 -198.00537 510.2054 -385.4574 697.6574\n",
       "136          156.1 -252.78566 564.9857 -469.2367 781.4367\n",
       "137          156.1 -301.04807 613.2481 -543.0476 855.2476\n",
       "138          156.1 -344.68062 656.8806 -609.7779 921.9779"
      ]
     },
     "metadata": {},
     "output_type": "display_data"
    }
   ],
   "source": [
    "fcast.naive"
   ]
  },
  {
   "cell_type": "code",
   "execution_count": 33,
   "id": "d21097d8",
   "metadata": {},
   "outputs": [
    {
     "data": {
      "image/png": "[encoded data removed]",
      "text/plain": [
       "Plot with title \"Forecasts from Naive method\""
      ]
     },
     "metadata": {
      "image/png": {
       "height": 420,
       "width": 420
      }
     },
     "output_type": "display_data"
    }
   ],
   "source": [
    "plot(fcast.naive, col='blue', lwd=3,xlim=c(100,140))\n",
    "x <- seq(133,138)\n",
    "y <- departures[133:138]\n",
    "lines(x, y, col='red', lwd=3)\n",
    "#For naive forecast all future forecasts are equal to the last observed value"
   ]
  },
  {
   "cell_type": "code",
   "execution_count": 34,
   "id": "3fd745fd",
   "metadata": {},
   "outputs": [
    {
     "data": {
      "text/html": [
       "<table class=\"dataframe\">\n",
       "<caption>A matrix: 2 × 7 of type dbl</caption>\n",
       "<thead>\n",
       "\t<tr><th></th><th scope=col>ME</th><th scope=col>RMSE</th><th scope=col>MAE</th><th scope=col>MPE</th><th scope=col>MAPE</th><th scope=col>MASE</th><th scope=col>ACF1</th></tr>\n",
       "</thead>\n",
       "<tbody>\n",
       "\t<tr><th scope=row>Training set</th><td> -4.399237</td><td>159.52759</td><td>121.76565</td><td> -34.04558</td><td> 46.6151</td><td>1.0000000</td><td>0.4252624</td></tr>\n",
       "\t<tr><th scope=row>Test set</th><td>-68.283333</td><td> 80.74768</td><td> 74.48333</td><td>-114.71792</td><td>118.2669</td><td>0.6116941</td><td>       NA</td></tr>\n",
       "</tbody>\n",
       "</table>\n"
      ],
      "text/latex": [
       "A matrix: 2 × 7 of type dbl\n",
       "\\begin{tabular}{r|lllllll}\n",
       "  & ME & RMSE & MAE & MPE & MAPE & MASE & ACF1\\\\\n",
       "\\hline\n",
       "\tTraining set &  -4.399237 & 159.52759 & 121.76565 &  -34.04558 &  46.6151 & 1.0000000 & 0.4252624\\\\\n",
       "\tTest set & -68.283333 &  80.74768 &  74.48333 & -114.71792 & 118.2669 & 0.6116941 &        NA\\\\\n",
       "\\end{tabular}\n"
      ],
      "text/markdown": [
       "\n",
       "A matrix: 2 × 7 of type dbl\n",
       "\n",
       "| <!--/--> | ME | RMSE | MAE | MPE | MAPE | MASE | ACF1 |\n",
       "|---|---|---|---|---|---|---|---|\n",
       "| Training set |  -4.399237 | 159.52759 | 121.76565 |  -34.04558 |  46.6151 | 1.0000000 | 0.4252624 |\n",
       "| Test set | -68.283333 |  80.74768 |  74.48333 | -114.71792 | 118.2669 | 0.6116941 |        NA |\n",
       "\n"
      ],
      "text/plain": [
       "             ME         RMSE      MAE       MPE        MAPE     MASE     \n",
       "Training set  -4.399237 159.52759 121.76565  -34.04558  46.6151 1.0000000\n",
       "Test set     -68.283333  80.74768  74.48333 -114.71792 118.2669 0.6116941\n",
       "             ACF1     \n",
       "Training set 0.4252624\n",
       "Test set            NA"
      ]
     },
     "metadata": {},
     "output_type": "display_data"
    }
   ],
   "source": [
    "accuracy(fcast.naive,departures[133:138])"
   ]
  },
  {
   "cell_type": "markdown",
   "id": "279c6667",
   "metadata": {},
   "source": [
    "### Simple Model (Drift Method)"
   ]
  },
  {
   "cell_type": "code",
   "execution_count": 35,
   "id": "19281aec",
   "metadata": {},
   "outputs": [],
   "source": [
    "fcast.drift <- rwf(departures[1:132],h=6, drift=TRUE)"
   ]
  },
  {
   "cell_type": "code",
   "execution_count": 36,
   "id": "2d087039",
   "metadata": {},
   "outputs": [
    {
     "data": {
      "text/plain": [
       "    Point Forecast      Lo 80    Hi 80     Lo 95    Hi 95\n",
       "133       151.7008  -54.23036 357.6319 -163.2437 466.6452\n",
       "134       147.3015 -145.03012 439.6332 -299.7811 594.3842\n",
       "135       142.9023 -216.47286 502.2774 -406.7146 692.5191\n",
       "136       138.5031 -278.01314 555.0192 -498.5035 775.5096\n",
       "137       134.1038 -333.29700 601.5046 -580.7241 848.9317\n",
       "138       129.7046 -384.18631 643.5955 -656.2237 915.6329"
      ]
     },
     "metadata": {},
     "output_type": "display_data"
    }
   ],
   "source": [
    "fcast.drift"
   ]
  },
  {
   "cell_type": "code",
   "execution_count": 37,
   "id": "91165080",
   "metadata": {},
   "outputs": [
    {
     "data": {
      "image/png": "[encoded data removed]",
      "text/plain": [
       "Plot with title \"Forecasts from Random walk with drift\""
      ]
     },
     "metadata": {
      "image/png": {
       "height": 420,
       "width": 420
      }
     },
     "output_type": "display_data"
    }
   ],
   "source": [
    "plot(fcast.drift,xlim=c(100,140))\n",
    "x <- c(1, 132)\n",
    "y <- c(departures[1], departures[132])\n",
    "lines(x, y, col='black', lwd=3)\n",
    "x <- seq(133,138)\n",
    "y <- departures[133:138]\n",
    "lines(x, y, col='red', lwd=3)"
   ]
  },
  {
   "cell_type": "code",
   "execution_count": 38,
   "id": "07af2587",
   "metadata": {},
   "outputs": [
    {
     "data": {
      "text/html": [
       "<table class=\"dataframe\">\n",
       "<caption>A matrix: 2 × 7 of type dbl</caption>\n",
       "<thead>\n",
       "\t<tr><th></th><th scope=col>ME</th><th scope=col>RMSE</th><th scope=col>MAE</th><th scope=col>MPE</th><th scope=col>MAPE</th><th scope=col>MASE</th><th scope=col>ACF1</th></tr>\n",
       "</thead>\n",
       "<tbody>\n",
       "\t<tr><th scope=row>Training set</th><td> 6.378343e-14</td><td>159.46692</td><td>121.53972</td><td>-33.09169</td><td> 46.47038</td><td>0.9981446</td><td>0.4252624</td></tr>\n",
       "\t<tr><th scope=row>Test set</th><td>-5.288601e+01</td><td> 71.07202</td><td> 67.88448</td><td>-95.31205</td><td>103.89732</td><td>0.5575011</td><td>       NA</td></tr>\n",
       "</tbody>\n",
       "</table>\n"
      ],
      "text/latex": [
       "A matrix: 2 × 7 of type dbl\n",
       "\\begin{tabular}{r|lllllll}\n",
       "  & ME & RMSE & MAE & MPE & MAPE & MASE & ACF1\\\\\n",
       "\\hline\n",
       "\tTraining set &  6.378343e-14 & 159.46692 & 121.53972 & -33.09169 &  46.47038 & 0.9981446 & 0.4252624\\\\\n",
       "\tTest set & -5.288601e+01 &  71.07202 &  67.88448 & -95.31205 & 103.89732 & 0.5575011 &        NA\\\\\n",
       "\\end{tabular}\n"
      ],
      "text/markdown": [
       "\n",
       "A matrix: 2 × 7 of type dbl\n",
       "\n",
       "| <!--/--> | ME | RMSE | MAE | MPE | MAPE | MASE | ACF1 |\n",
       "|---|---|---|---|---|---|---|---|\n",
       "| Training set |  6.378343e-14 | 159.46692 | 121.53972 | -33.09169 |  46.47038 | 0.9981446 | 0.4252624 |\n",
       "| Test set | -5.288601e+01 |  71.07202 |  67.88448 | -95.31205 | 103.89732 | 0.5575011 |        NA |\n",
       "\n"
      ],
      "text/plain": [
       "             ME            RMSE      MAE       MPE       MAPE      MASE     \n",
       "Training set  6.378343e-14 159.46692 121.53972 -33.09169  46.47038 0.9981446\n",
       "Test set     -5.288601e+01  71.07202  67.88448 -95.31205 103.89732 0.5575011\n",
       "             ACF1     \n",
       "Training set 0.4252624\n",
       "Test set            NA"
      ]
     },
     "metadata": {},
     "output_type": "display_data"
    }
   ],
   "source": [
    "accuracy(fcast.drift,departures[133:138])\n",
    "#For short term the rmse is good, but will have a worse rmse if we predict for a longer time period when the time series continues its usual trend"
   ]
  },
  {
   "cell_type": "markdown",
   "id": "a3c63208",
   "metadata": {},
   "source": [
    "### Simple Method (Average Method)"
   ]
  },
  {
   "cell_type": "code",
   "execution_count": 39,
   "id": "1ac289bd",
   "metadata": {},
   "outputs": [],
   "source": [
    "fcast.mean <- meanf(departures[1:132],h=6) "
   ]
  },
  {
   "cell_type": "code",
   "execution_count": 40,
   "id": "91986746",
   "metadata": {},
   "outputs": [
    {
     "data": {
      "text/plain": [
       "  Point Forecast    Lo 80   Hi 80    Lo 95    Hi 95\n",
       "1       1136.176 586.3412 1686.01 291.7162 1980.635\n",
       "2       1136.176 586.3412 1686.01 291.7162 1980.635\n",
       "3       1136.176 586.3412 1686.01 291.7162 1980.635\n",
       "4       1136.176 586.3412 1686.01 291.7162 1980.635\n",
       "5       1136.176 586.3412 1686.01 291.7162 1980.635\n",
       "6       1136.176 586.3412 1686.01 291.7162 1980.635"
      ]
     },
     "metadata": {},
     "output_type": "display_data"
    }
   ],
   "source": [
    "fcast.mean"
   ]
  },
  {
   "cell_type": "code",
   "execution_count": 41,
   "id": "88bb46e1",
   "metadata": {},
   "outputs": [
    {
     "data": {
      "image/png": "[encoded data removed]",
      "text/plain": [
       "Plot with title \"Forecasts from Mean\""
      ]
     },
     "metadata": {
      "image/png": {
       "height": 420,
       "width": 420
      }
     },
     "output_type": "display_data"
    }
   ],
   "source": [
    "plot(fcast.mean, col='blue', lwd=3,xlim=c(100,140))\n",
    "x <- c(1,132)\n",
    "y <- c(mean(departures[1:132]), mean(departures[1:132]))\n",
    "lines(x, y, col='black', lwd=3)\n",
    "x <- seq(133,138)\n",
    "y <- departures[133:138]\n",
    "lines(x, y, col='red', lwd=3)\n",
    "#Forecast is outside 95% confidence interval"
   ]
  },
  {
   "cell_type": "code",
   "execution_count": 42,
   "id": "62bc7f5d",
   "metadata": {},
   "outputs": [
    {
     "data": {
      "text/html": [
       "<table class=\"dataframe\">\n",
       "<caption>A matrix: 2 × 6 of type dbl</caption>\n",
       "<thead>\n",
       "\t<tr><th></th><th scope=col>ME</th><th scope=col>RMSE</th><th scope=col>MAE</th><th scope=col>MPE</th><th scope=col>MAPE</th><th scope=col>MASE</th></tr>\n",
       "</thead>\n",
       "<tbody>\n",
       "\t<tr><th scope=row>Training set</th><td>-6.890995e-14</td><td> 423.6527</td><td> 322.303</td><td> -145.6652</td><td> 165.8153</td><td>1.000000</td></tr>\n",
       "\t<tr><th scope=row>Test set</th><td>-1.048359e+03</td><td>1049.2447</td><td>1048.359</td><td>-1462.8270</td><td>1462.8270</td><td>3.252713</td></tr>\n",
       "</tbody>\n",
       "</table>\n"
      ],
      "text/latex": [
       "A matrix: 2 × 6 of type dbl\n",
       "\\begin{tabular}{r|llllll}\n",
       "  & ME & RMSE & MAE & MPE & MAPE & MASE\\\\\n",
       "\\hline\n",
       "\tTraining set & -6.890995e-14 &  423.6527 &  322.303 &  -145.6652 &  165.8153 & 1.000000\\\\\n",
       "\tTest set & -1.048359e+03 & 1049.2447 & 1048.359 & -1462.8270 & 1462.8270 & 3.252713\\\\\n",
       "\\end{tabular}\n"
      ],
      "text/markdown": [
       "\n",
       "A matrix: 2 × 6 of type dbl\n",
       "\n",
       "| <!--/--> | ME | RMSE | MAE | MPE | MAPE | MASE |\n",
       "|---|---|---|---|---|---|---|\n",
       "| Training set | -6.890995e-14 |  423.6527 |  322.303 |  -145.6652 |  165.8153 | 1.000000 |\n",
       "| Test set | -1.048359e+03 | 1049.2447 | 1048.359 | -1462.8270 | 1462.8270 | 3.252713 |\n",
       "\n"
      ],
      "text/plain": [
       "             ME            RMSE      MAE      MPE        MAPE      MASE    \n",
       "Training set -6.890995e-14  423.6527  322.303  -145.6652  165.8153 1.000000\n",
       "Test set     -1.048359e+03 1049.2447 1048.359 -1462.8270 1462.8270 3.252713"
      ]
     },
     "metadata": {},
     "output_type": "display_data"
    }
   ],
   "source": [
    "accuracy(fcast.mean,departures[133:138])\n",
    "#Largest RMSE amoung the simple models on the tst data(first six months of 2021)\n",
    "#Since the forecast is equal to the mean, the forecast is way off from the actual value"
   ]
  },
  {
   "cell_type": "markdown",
   "id": "effbba2b",
   "metadata": {},
   "source": [
    "### Exponential Models (Simple)"
   ]
  },
  {
   "cell_type": "code",
   "execution_count": 43,
   "id": "0e8c42e4",
   "metadata": {},
   "outputs": [
    {
     "data": {
      "text/plain": [
       "ETS(A,N,N) \n",
       "\n",
       "Call:\n",
       " ets(y = departures[1:132], model = \"ANN\", alpha = 0.1) \n",
       "\n",
       "  Smoothing parameters:\n",
       "    alpha = 0.1 \n",
       "\n",
       "  Initial states:\n",
       "    l = 936.5964 \n",
       "\n",
       "  sigma:  354.6762\n",
       "\n",
       "     AIC     AICc      BIC \n",
       "2196.513 2196.606 2202.278 \n",
       "\n",
       "Training set error measures:\n",
       "                    ME    RMSE      MAE       MPE     MAPE     MASE      ACF1\n",
       "Training set -23.31221 351.979 274.6317 -156.0747 173.2202 2.255412 0.8837862"
      ]
     },
     "metadata": {},
     "output_type": "display_data"
    }
   ],
   "source": [
    "fcast.ses <- ets(departures[1:132], alpha=0.1, model='ANN')\n",
    "summary(fcast.ses)\n",
    "#Simple exponential smoothing only takes level into consideration"
   ]
  },
  {
   "cell_type": "code",
   "execution_count": 44,
   "id": "51e35143",
   "metadata": {},
   "outputs": [],
   "source": [
    "fc.ses <- forecast(fcast.ses,6)"
   ]
  },
  {
   "cell_type": "code",
   "execution_count": 45,
   "id": "d6f36799",
   "metadata": {},
   "outputs": [
    {
     "data": {
      "image/png": "[encoded data removed]",
      "text/plain": [
       "Plot with title \"Forecasts from ETS(A,N,N)\""
      ]
     },
     "metadata": {
      "image/png": {
       "height": 420,
       "width": 420
      }
     },
     "output_type": "display_data"
    }
   ],
   "source": [
    "plot(fc.ses, lw=2, col='blue',xlim=c(100,140))\n",
    "x <- as.vector(time(departures[1:132]))\n",
    "y <- fcast.ses$fitted\n",
    "lines(x, y, col='black', lw=4)\n",
    "x <- seq(133,138)\n",
    "y <- departures[133:138]\n",
    "lines(x, y, col='red', lwd=3)"
   ]
  },
  {
   "cell_type": "code",
   "execution_count": 46,
   "id": "2f071a0b",
   "metadata": {},
   "outputs": [
    {
     "data": {
      "text/html": [
       "<table class=\"dataframe\">\n",
       "<caption>A matrix: 2 × 7 of type dbl</caption>\n",
       "<thead>\n",
       "\t<tr><th></th><th scope=col>ME</th><th scope=col>RMSE</th><th scope=col>MAE</th><th scope=col>MPE</th><th scope=col>MAPE</th><th scope=col>MASE</th><th scope=col>ACF1</th></tr>\n",
       "</thead>\n",
       "<tbody>\n",
       "\t<tr><th scope=row>Training set</th><td> -23.31221</td><td>351.9790</td><td>274.6317</td><td>-156.0747</td><td>173.2202</td><td>2.255412</td><td>0.8837862</td></tr>\n",
       "\t<tr><th scope=row>Test set</th><td>-541.05857</td><td>542.7725</td><td>541.0586</td><td>-765.0274</td><td>765.0274</td><td>4.443442</td><td>       NA</td></tr>\n",
       "</tbody>\n",
       "</table>\n"
      ],
      "text/latex": [
       "A matrix: 2 × 7 of type dbl\n",
       "\\begin{tabular}{r|lllllll}\n",
       "  & ME & RMSE & MAE & MPE & MAPE & MASE & ACF1\\\\\n",
       "\\hline\n",
       "\tTraining set &  -23.31221 & 351.9790 & 274.6317 & -156.0747 & 173.2202 & 2.255412 & 0.8837862\\\\\n",
       "\tTest set & -541.05857 & 542.7725 & 541.0586 & -765.0274 & 765.0274 & 4.443442 &        NA\\\\\n",
       "\\end{tabular}\n"
      ],
      "text/markdown": [
       "\n",
       "A matrix: 2 × 7 of type dbl\n",
       "\n",
       "| <!--/--> | ME | RMSE | MAE | MPE | MAPE | MASE | ACF1 |\n",
       "|---|---|---|---|---|---|---|---|\n",
       "| Training set |  -23.31221 | 351.9790 | 274.6317 | -156.0747 | 173.2202 | 2.255412 | 0.8837862 |\n",
       "| Test set | -541.05857 | 542.7725 | 541.0586 | -765.0274 | 765.0274 | 4.443442 |        NA |\n",
       "\n"
      ],
      "text/plain": [
       "             ME         RMSE     MAE      MPE       MAPE     MASE     ACF1     \n",
       "Training set  -23.31221 351.9790 274.6317 -156.0747 173.2202 2.255412 0.8837862\n",
       "Test set     -541.05857 542.7725 541.0586 -765.0274 765.0274 4.443442        NA"
      ]
     },
     "metadata": {},
     "output_type": "display_data"
    }
   ],
   "source": [
    "accuracy(fc.ses,departures[133:138])"
   ]
  },
  {
   "cell_type": "code",
   "execution_count": 47,
   "id": "12de06eb",
   "metadata": {},
   "outputs": [
    {
     "data": {
      "image/png": "[encoded data removed]",
      "text/plain": [
       "plot without title"
      ]
     },
     "metadata": {
      "image/png": {
       "height": 420,
       "width": 420
      }
     },
     "output_type": "display_data"
    }
   ],
   "source": [
    "plot(fcast.ses)"
   ]
  },
  {
   "cell_type": "code",
   "execution_count": 48,
   "id": "4fe02151",
   "metadata": {},
   "outputs": [
    {
     "data": {
      "text/plain": [
       "ETS(A,N,N) \n",
       "\n",
       "Call:\n",
       " ets(y = departures[1:132], model = \"ANN\") \n",
       "\n",
       "  Smoothing parameters:\n",
       "    alpha = 0.9999 \n",
       "\n",
       "  Initial states:\n",
       "    l = 762.1383 \n",
       "\n",
       "  sigma:  160.1681\n",
       "\n",
       "     AIC     AICc      BIC \n",
       "1988.638 1988.825 1997.286 \n",
       "\n",
       "Training set error measures:\n",
       "                    ME   RMSE      MAE       MPE     MAPE      MASE      ACF1\n",
       "Training set -4.591713 158.95 121.0752 -33.82375 46.29513 0.9943299 0.4250503"
      ]
     },
     "metadata": {},
     "output_type": "display_data"
    }
   ],
   "source": [
    "fcast.ses <- ets(departures[1:132], model='ANN')\n",
    "summary(fcast.ses)\n",
    "#Not specifying alpha "
   ]
  },
  {
   "cell_type": "code",
   "execution_count": 49,
   "id": "1a60632b",
   "metadata": {},
   "outputs": [],
   "source": [
    "fc.ses <- forecast(fcast.ses, h=6)"
   ]
  },
  {
   "cell_type": "code",
   "execution_count": 50,
   "id": "61f43b87",
   "metadata": {},
   "outputs": [
    {
     "data": {
      "image/png": "[encoded data removed]",
      "text/plain": [
       "Plot with title \"Forecasts from ETS(A,N,N)\""
      ]
     },
     "metadata": {
      "image/png": {
       "height": 420,
       "width": 420
      }
     },
     "output_type": "display_data"
    }
   ],
   "source": [
    "plot(fc.ses, lw=2, col='blue',xlim=c(100,140))\n",
    "x <- as.vector(time(departures[1:132]))\n",
    "y <- fcast.ses$fitted\n",
    "lines(x, y, col='black', lw=4)\n",
    "x <- seq(133,138)\n",
    "y <- departures[133:138]\n",
    "lines(x, y, col='red', lwd=3)\n",
    "\n",
    "#If we dont specify alpha, the alpha value chosen is very close to one, very little smoothing, latest observation(2020) is given very high weightage\n",
    "#since SES has a flat forecast function, it is not suitable for our use case which has a trend and a seasonality"
   ]
  },
  {
   "cell_type": "code",
   "execution_count": 51,
   "id": "c4529fd0",
   "metadata": {},
   "outputs": [
    {
     "data": {
      "text/html": [
       "<table class=\"dataframe\">\n",
       "<caption>A matrix: 2 × 7 of type dbl</caption>\n",
       "<thead>\n",
       "\t<tr><th></th><th scope=col>ME</th><th scope=col>RMSE</th><th scope=col>MAE</th><th scope=col>MPE</th><th scope=col>MAPE</th><th scope=col>MASE</th><th scope=col>ACF1</th></tr>\n",
       "</thead>\n",
       "<tbody>\n",
       "\t<tr><th scope=row>Training set</th><td> -4.591713</td><td>158.95003</td><td>121.07522</td><td> -33.82375</td><td> 46.29513</td><td>0.9943299</td><td>0.4250503</td></tr>\n",
       "\t<tr><th scope=row>Test set</th><td>-68.276217</td><td> 80.74167</td><td> 74.47859</td><td>-114.70813</td><td>118.25843</td><td>0.6116552</td><td>       NA</td></tr>\n",
       "</tbody>\n",
       "</table>\n"
      ],
      "text/latex": [
       "A matrix: 2 × 7 of type dbl\n",
       "\\begin{tabular}{r|lllllll}\n",
       "  & ME & RMSE & MAE & MPE & MAPE & MASE & ACF1\\\\\n",
       "\\hline\n",
       "\tTraining set &  -4.591713 & 158.95003 & 121.07522 &  -33.82375 &  46.29513 & 0.9943299 & 0.4250503\\\\\n",
       "\tTest set & -68.276217 &  80.74167 &  74.47859 & -114.70813 & 118.25843 & 0.6116552 &        NA\\\\\n",
       "\\end{tabular}\n"
      ],
      "text/markdown": [
       "\n",
       "A matrix: 2 × 7 of type dbl\n",
       "\n",
       "| <!--/--> | ME | RMSE | MAE | MPE | MAPE | MASE | ACF1 |\n",
       "|---|---|---|---|---|---|---|---|\n",
       "| Training set |  -4.591713 | 158.95003 | 121.07522 |  -33.82375 |  46.29513 | 0.9943299 | 0.4250503 |\n",
       "| Test set | -68.276217 |  80.74167 |  74.47859 | -114.70813 | 118.25843 | 0.6116552 |        NA |\n",
       "\n"
      ],
      "text/plain": [
       "             ME         RMSE      MAE       MPE        MAPE      MASE     \n",
       "Training set  -4.591713 158.95003 121.07522  -33.82375  46.29513 0.9943299\n",
       "Test set     -68.276217  80.74167  74.47859 -114.70813 118.25843 0.6116552\n",
       "             ACF1     \n",
       "Training set 0.4250503\n",
       "Test set            NA"
      ]
     },
     "metadata": {},
     "output_type": "display_data"
    }
   ],
   "source": [
    "accuracy(fc.ses,departures[133:138])\n",
    "#It gives a better rmse than alpha=0.1"
   ]
  },
  {
   "cell_type": "markdown",
   "id": "fd3028f4",
   "metadata": {},
   "source": [
    "### Exponential Smoothing(Holts)"
   ]
  },
  {
   "cell_type": "code",
   "execution_count": 52,
   "id": "4e16830f",
   "metadata": {},
   "outputs": [
    {
     "data": {
      "text/plain": [
       "ETS(A,Ad,N) \n",
       "\n",
       "Call:\n",
       " ets(y = departures[1:132], model = \"AAN\") \n",
       "\n",
       "  Smoothing parameters:\n",
       "    alpha = 0.8148 \n",
       "    beta  = 0.8148 \n",
       "    phi   = 0.8 \n",
       "\n",
       "  Initial states:\n",
       "    l = 764.9002 \n",
       "    b = 56.2126 \n",
       "\n",
       "  sigma:  147.4473\n",
       "\n",
       "     AIC     AICc      BIC \n",
       "1969.709 1970.381 1987.006 \n",
       "\n",
       "Training set error measures:\n",
       "                    ME     RMSE      MAE        MPE     MAPE      MASE\n",
       "Training set -1.236564 144.6278 111.2287 -0.2118292 44.75299 0.9134653\n",
       "                    ACF1\n",
       "Training set -0.01214163"
      ]
     },
     "metadata": {},
     "output_type": "display_data"
    }
   ],
   "source": [
    "fcast.holt <- ets(departures[1:132], model='AAN')\n",
    "summary(fcast.holt)\n",
    "#Taking both level and trend into consideration using double exponential smoothing"
   ]
  },
  {
   "cell_type": "code",
   "execution_count": 53,
   "id": "77aa8050",
   "metadata": {},
   "outputs": [],
   "source": [
    "fc.holt <- forecast(fcast.holt, h=6)"
   ]
  },
  {
   "cell_type": "code",
   "execution_count": 54,
   "id": "3692ef38",
   "metadata": {},
   "outputs": [
    {
     "data": {
      "image/png": "[encoded data removed]",
      "text/plain": [
       "Plot with title \"Forecasts from ETS(A,Ad,N)\""
      ]
     },
     "metadata": {
      "image/png": {
       "height": 420,
       "width": 420
      }
     },
     "output_type": "display_data"
    }
   ],
   "source": [
    "plot(fc.holt, lw=2, col='blue',xlim=c(100,140))\n",
    "x <- as.vector(time(departures[1:132]))\n",
    "y <- fcast.holt$fitted\n",
    "lines(x, y, col='black', lw=4)\n",
    "x <- seq(133,138)\n",
    "y <- departures[133:138]\n",
    "lines(x, y, col='red', lwd=3)"
   ]
  },
  {
   "cell_type": "code",
   "execution_count": 55,
   "id": "30f36da3",
   "metadata": {},
   "outputs": [
    {
     "data": {
      "image/png": "[encoded data removed]",
      "text/plain": [
       "plot without title"
      ]
     },
     "metadata": {
      "image/png": {
       "height": 420,
       "width": 420
      }
     },
     "output_type": "display_data"
    }
   ],
   "source": [
    "plot(fcast.holt)"
   ]
  },
  {
   "cell_type": "code",
   "execution_count": 56,
   "id": "b8dda483",
   "metadata": {},
   "outputs": [
    {
     "data": {
      "text/html": [
       "<table class=\"dataframe\">\n",
       "<caption>A matrix: 2 × 7 of type dbl</caption>\n",
       "<thead>\n",
       "\t<tr><th></th><th scope=col>ME</th><th scope=col>RMSE</th><th scope=col>MAE</th><th scope=col>MPE</th><th scope=col>MAPE</th><th scope=col>MASE</th><th scope=col>ACF1</th></tr>\n",
       "</thead>\n",
       "<tbody>\n",
       "\t<tr><th scope=row>Training set</th><td>  -1.236564</td><td>144.6278</td><td>111.2287</td><td>  -0.2118292</td><td> 44.75299</td><td>0.9134653</td><td>-0.01214163</td></tr>\n",
       "\t<tr><th scope=row>Test set</th><td>-142.723448</td><td>149.2870</td><td>142.7234</td><td>-211.2582018</td><td>211.25820</td><td>1.1721159</td><td>         NA</td></tr>\n",
       "</tbody>\n",
       "</table>\n"
      ],
      "text/latex": [
       "A matrix: 2 × 7 of type dbl\n",
       "\\begin{tabular}{r|lllllll}\n",
       "  & ME & RMSE & MAE & MPE & MAPE & MASE & ACF1\\\\\n",
       "\\hline\n",
       "\tTraining set &   -1.236564 & 144.6278 & 111.2287 &   -0.2118292 &  44.75299 & 0.9134653 & -0.01214163\\\\\n",
       "\tTest set & -142.723448 & 149.2870 & 142.7234 & -211.2582018 & 211.25820 & 1.1721159 &          NA\\\\\n",
       "\\end{tabular}\n"
      ],
      "text/markdown": [
       "\n",
       "A matrix: 2 × 7 of type dbl\n",
       "\n",
       "| <!--/--> | ME | RMSE | MAE | MPE | MAPE | MASE | ACF1 |\n",
       "|---|---|---|---|---|---|---|---|\n",
       "| Training set |   -1.236564 | 144.6278 | 111.2287 |   -0.2118292 |  44.75299 | 0.9134653 | -0.01214163 |\n",
       "| Test set | -142.723448 | 149.2870 | 142.7234 | -211.2582018 | 211.25820 | 1.1721159 |          NA |\n",
       "\n"
      ],
      "text/plain": [
       "             ME          RMSE     MAE      MPE          MAPE      MASE     \n",
       "Training set   -1.236564 144.6278 111.2287   -0.2118292  44.75299 0.9134653\n",
       "Test set     -142.723448 149.2870 142.7234 -211.2582018 211.25820 1.1721159\n",
       "             ACF1       \n",
       "Training set -0.01214163\n",
       "Test set              NA"
      ]
     },
     "metadata": {},
     "output_type": "display_data"
    }
   ],
   "source": [
    "accuracy(fc.holt,departures[133:138])"
   ]
  },
  {
   "cell_type": "code",
   "execution_count": 57,
   "id": "d9b6e29d",
   "metadata": {},
   "outputs": [],
   "source": [
    "d<-ts(departures[1:132], start=c(2010,1), frequency=12)"
   ]
  },
  {
   "cell_type": "markdown",
   "id": "6ff9fc87",
   "metadata": {},
   "source": [
    "### Exponential Smoothing (Holt-Winters)"
   ]
  },
  {
   "cell_type": "code",
   "execution_count": 58,
   "id": "a770457d",
   "metadata": {
    "scrolled": false
   },
   "outputs": [
    {
     "data": {
      "image/png": "[encoded data removed]",
      "text/plain": [
       "plot without title"
      ]
     },
     "metadata": {
      "image/png": {
       "height": 420,
       "width": 420
      }
     },
     "output_type": "display_data"
    }
   ],
   "source": [
    "d<-ts(departures[1:132], start=c(2010,1), frequency=12)\n",
    "\n",
    "fcast.hw1<-hw(d,seasonal='additive')\n",
    "fcast.hw2<-hw(d,seasonal='multiplicative')\n",
    "autoplot(d)+autolayer(fcast.hw1, series='HW Additive', PI=FALSE)+autolayer(fcast.hw2, series='HW Multiplicative', PI=FALSE)+xlab('year')+ylab('Departures')+ggtitle('Holt-Winters')+guides(colour=guide_legend(title='Forecast'))+theme_bw()\n",
    "#Tripe exponential smoothing also takes seasonality into consideration\n",
    "#Not choosing the smoothing parameters alpha, beta and gamma"
   ]
  },
  {
   "cell_type": "code",
   "execution_count": 59,
   "id": "6c2c6a41",
   "metadata": {},
   "outputs": [
    {
     "data": {
      "text/plain": [
       "\n",
       "Forecast method: Holt-Winters' additive method\n",
       "\n",
       "Model Information:\n",
       "Holt-Winters' additive method \n",
       "\n",
       "Call:\n",
       " hw(y = d, seasonal = \"additive\") \n",
       "\n",
       "  Smoothing parameters:\n",
       "    alpha = 0.9999 \n",
       "    beta  = 0.0137 \n",
       "    gamma = 1e-04 \n",
       "\n",
       "  Initial states:\n",
       "    l = 963.2346 \n",
       "    b = 7.2359 \n",
       "    s = -208.1595 -202.943 72.9792 130.8309 307.7921 349.7476\n",
       "           233.4324 73.3067 -65.2919 -143.9432 -278.8151 -268.9363\n",
       "\n",
       "  sigma:  111.3604\n",
       "\n",
       "     AIC     AICc      BIC \n",
       "1905.646 1911.014 1954.653 \n",
       "\n",
       "Error measures:\n",
       "                    ME     RMSE      MAE       MPE    MAPE      MASE     ACF1\n",
       "Training set -9.089778 104.3934 53.82661 -40.31534 50.4259 0.2790401 0.375125\n",
       "\n",
       "Forecasts:\n",
       "         Point Forecast      Lo 80     Hi 80       Lo 95     Hi 95\n",
       "Jan 2021       86.09848  -56.61566  228.8126  -132.16396  304.3609\n",
       "Feb 2021       66.99705 -136.20984  270.2039  -243.78107  377.7752\n",
       "Mar 2021      192.64903  -57.92808  443.2261  -190.57558  575.8736\n",
       "Apr 2021      262.04848  -29.26326  553.3602  -183.47437  707.5713\n",
       "May 2021      391.47076   63.56586  719.3757  -110.01652  892.9580\n",
       "Jun 2021      542.36809  180.74141  903.9948   -10.69219 1095.4284\n",
       "Jul 2021      649.41822  256.19200 1042.6444    48.03061 1250.8058\n",
       "Aug 2021      598.29941  175.11114 1021.4877   -48.91121 1245.5100\n",
       "Sep 2021      412.11696  -39.73023  863.9641  -278.92369 1103.1576\n",
       "Oct 2021      345.02878 -134.41592  824.4735  -388.21861 1078.2762\n",
       "Nov 2021       59.90669 -446.25534  566.0687  -714.20133  834.0147\n",
       "Dec 2021       45.45262 -486.68634  577.5916  -768.38368  859.2889\n",
       "Jan 2022      -24.54887 -582.03901  532.9413  -877.15646  828.0587\n",
       "Feb 2022      -43.65031 -625.94603  538.6454  -934.19477  846.8941\n",
       "Mar 2022       82.00167 -524.63121  688.6346  -845.76326 1009.7666\n",
       "Apr 2022      151.40112 -479.16081  781.9631  -812.96013 1115.7624\n",
       "May 2022      280.82341 -373.31011  934.9569  -719.58748 1281.2343\n",
       "Jun 2022      431.72073 -245.66988 1109.1113  -604.25881 1467.7003\n",
       "Jul 2022      538.77086 -161.59916 1239.1409  -532.35265 1609.8944\n",
       "Aug 2022      487.65206 -235.45145 1210.7556  -618.23933 1593.5434\n",
       "Sep 2022      301.46960 -444.14912 1047.0883  -838.85582 1441.7950\n",
       "Oct 2022      234.38143 -533.55840 1002.3213  -940.08119 1408.8440\n",
       "Nov 2022      -50.74067 -840.82882  739.3475 -1259.07622 1157.5949\n",
       "Dec 2022      -65.19473 -877.27727  746.8878 -1307.16779 1176.7783"
      ]
     },
     "metadata": {},
     "output_type": "display_data"
    }
   ],
   "source": [
    "summary(fcast.hw1)"
   ]
  },
  {
   "cell_type": "code",
   "execution_count": 60,
   "id": "25997444",
   "metadata": {},
   "outputs": [],
   "source": [
    "fc.hw1<-forecast(fcast.hw1,6)"
   ]
  },
  {
   "cell_type": "code",
   "execution_count": 61,
   "id": "b3311196",
   "metadata": {},
   "outputs": [
    {
     "data": {
      "text/html": [
       "<table class=\"dataframe\">\n",
       "<caption>A matrix: 2 × 7 of type dbl</caption>\n",
       "<thead>\n",
       "\t<tr><th></th><th scope=col>ME</th><th scope=col>RMSE</th><th scope=col>MAE</th><th scope=col>MPE</th><th scope=col>MAPE</th><th scope=col>MASE</th><th scope=col>ACF1</th></tr>\n",
       "</thead>\n",
       "<tbody>\n",
       "\t<tr><th scope=row>Training set</th><td>  -9.089778</td><td>104.3934</td><td> 53.82661</td><td> -40.31534</td><td> 50.4259</td><td>0.4420509</td><td>0.375125</td></tr>\n",
       "\t<tr><th scope=row>Test set</th><td>-169.121981</td><td>219.8202</td><td>175.12249</td><td>-195.47495</td><td>201.2391</td><td>1.4381929</td><td>      NA</td></tr>\n",
       "</tbody>\n",
       "</table>\n"
      ],
      "text/latex": [
       "A matrix: 2 × 7 of type dbl\n",
       "\\begin{tabular}{r|lllllll}\n",
       "  & ME & RMSE & MAE & MPE & MAPE & MASE & ACF1\\\\\n",
       "\\hline\n",
       "\tTraining set &   -9.089778 & 104.3934 &  53.82661 &  -40.31534 &  50.4259 & 0.4420509 & 0.375125\\\\\n",
       "\tTest set & -169.121981 & 219.8202 & 175.12249 & -195.47495 & 201.2391 & 1.4381929 &       NA\\\\\n",
       "\\end{tabular}\n"
      ],
      "text/markdown": [
       "\n",
       "A matrix: 2 × 7 of type dbl\n",
       "\n",
       "| <!--/--> | ME | RMSE | MAE | MPE | MAPE | MASE | ACF1 |\n",
       "|---|---|---|---|---|---|---|---|\n",
       "| Training set |   -9.089778 | 104.3934 |  53.82661 |  -40.31534 |  50.4259 | 0.4420509 | 0.375125 |\n",
       "| Test set | -169.121981 | 219.8202 | 175.12249 | -195.47495 | 201.2391 | 1.4381929 |       NA |\n",
       "\n"
      ],
      "text/plain": [
       "             ME          RMSE     MAE       MPE        MAPE     MASE     \n",
       "Training set   -9.089778 104.3934  53.82661  -40.31534  50.4259 0.4420509\n",
       "Test set     -169.121981 219.8202 175.12249 -195.47495 201.2391 1.4381929\n",
       "             ACF1    \n",
       "Training set 0.375125\n",
       "Test set           NA"
      ]
     },
     "metadata": {},
     "output_type": "display_data"
    }
   ],
   "source": [
    "accuracy(fc.hw1,departures[133:138])"
   ]
  },
  {
   "cell_type": "code",
   "execution_count": 62,
   "id": "0fad31d8",
   "metadata": {},
   "outputs": [
    {
     "data": {
      "text/plain": [
       "\n",
       "Forecast method: Holt-Winters' multiplicative method\n",
       "\n",
       "Model Information:\n",
       "Holt-Winters' multiplicative method \n",
       "\n",
       "Call:\n",
       " hw(y = d, seasonal = \"multiplicative\") \n",
       "\n",
       "  Smoothing parameters:\n",
       "    alpha = 0.8229 \n",
       "    beta  = 0.0044 \n",
       "    gamma = 1e-04 \n",
       "\n",
       "  Initial states:\n",
       "    l = 951.5937 \n",
       "    b = 7.6972 \n",
       "    s = 0.8292 0.8175 1.0526 1.0977 1.2274 1.259\n",
       "           1.2336 1.0942 0.9605 0.8706 0.7776 0.7802\n",
       "\n",
       "  sigma:  0.3695\n",
       "\n",
       "     AIC     AICc      BIC \n",
       "2227.587 2232.955 2276.595 \n",
       "\n",
       "Error measures:\n",
       "                    ME     RMSE      MAE       MPE     MAPE      MASE     ACF1\n",
       "Training set -13.16763 108.6959 49.66627 -50.88396 55.86038 0.2574727 0.424166\n",
       "\n",
       "Forecasts:\n",
       "         Point Forecast       Lo 80    Hi 80       Lo 95     Hi 95\n",
       "Jan 2021       135.3839   71.277191 199.4905   37.341171  233.4265\n",
       "Feb 2021       134.2413   49.295561 219.1870    4.328016  264.1545\n",
       "Mar 2021       149.5408   33.999675 265.0819  -27.164106  326.2457\n",
       "Apr 2021       164.0949   15.840638 312.3492  -62.640431  390.8302\n",
       "May 2021       185.9599   -5.578402 377.4982 -106.972666  478.8925\n",
       "Jun 2021       208.5837  -32.314773 449.4821 -159.838700  577.0060\n",
       "Jul 2021       211.8816  -59.327801 483.0909 -202.897363  626.6605\n",
       "Aug 2021       205.3774  -83.486864 494.2416 -236.402360  647.1571\n",
       "Sep 2021       182.6777  -97.807941 463.1634 -246.288097  611.6436\n",
       "Oct 2021       174.2350 -116.309935 464.7800 -270.115150  618.5852\n",
       "Nov 2021       134.5907 -108.159658 377.3411 -236.663954  505.8454\n",
       "Dec 2021       135.7893 -128.222784 399.8014 -267.982349  539.5610\n",
       "Jan 2022       127.0656 -138.522686 392.6540 -279.116651  533.2479\n",
       "Feb 2022       125.9508 -156.404717 408.3063 -305.874691  557.7763\n",
       "Mar 2022       140.2576 -196.327748 476.8430 -374.505290  655.0206\n",
       "Apr 2022       153.8553 -240.730343 548.4409 -449.611340  757.3218\n",
       "May 2022       174.2952 -302.757097 651.3475 -555.293320  903.8837\n",
       "Jun 2022       195.4310 -374.738359 765.6004 -676.567791 1067.4298\n",
       "Jul 2022       198.4503 -418.063027 814.9637 -744.425487 1141.3262\n",
       "Aug 2022       192.2893 -443.242542 827.8211 -779.672769 1164.2513\n",
       "Sep 2022       170.9740 -429.738784 771.6869 -747.736946 1089.6850\n",
       "Oct 2022       163.0123 -445.428844 771.4534 -767.518119 1093.5427\n",
       "Nov 2022       125.8747 -372.944434 624.6939 -637.003345  888.7528\n",
       "Dec 2022       126.9480 -406.895742 660.7916 -689.495524  943.3914"
      ]
     },
     "metadata": {},
     "output_type": "display_data"
    }
   ],
   "source": [
    "summary(fcast.hw2)"
   ]
  },
  {
   "cell_type": "code",
   "execution_count": 63,
   "id": "d4967614",
   "metadata": {},
   "outputs": [],
   "source": [
    "fc.hw2<-forecast(fcast.hw2,6)"
   ]
  },
  {
   "cell_type": "code",
   "execution_count": 64,
   "id": "0240e696",
   "metadata": {},
   "outputs": [
    {
     "data": {
      "text/html": [
       "<table class=\"dataframe\">\n",
       "<caption>A matrix: 2 × 7 of type dbl</caption>\n",
       "<thead>\n",
       "\t<tr><th></th><th scope=col>ME</th><th scope=col>RMSE</th><th scope=col>MAE</th><th scope=col>MPE</th><th scope=col>MAPE</th><th scope=col>MASE</th><th scope=col>ACF1</th></tr>\n",
       "</thead>\n",
       "<tbody>\n",
       "\t<tr><th scope=row>Training set</th><td>-13.16763</td><td>108.69589</td><td>49.66627</td><td> -50.88396</td><td> 55.86038</td><td>0.4078841</td><td>0.424166</td></tr>\n",
       "\t<tr><th scope=row>Test set</th><td>-75.15074</td><td> 81.15021</td><td>75.15074</td><td>-114.91218</td><td>114.91218</td><td>0.6171752</td><td>      NA</td></tr>\n",
       "</tbody>\n",
       "</table>\n"
      ],
      "text/latex": [
       "A matrix: 2 × 7 of type dbl\n",
       "\\begin{tabular}{r|lllllll}\n",
       "  & ME & RMSE & MAE & MPE & MAPE & MASE & ACF1\\\\\n",
       "\\hline\n",
       "\tTraining set & -13.16763 & 108.69589 & 49.66627 &  -50.88396 &  55.86038 & 0.4078841 & 0.424166\\\\\n",
       "\tTest set & -75.15074 &  81.15021 & 75.15074 & -114.91218 & 114.91218 & 0.6171752 &       NA\\\\\n",
       "\\end{tabular}\n"
      ],
      "text/markdown": [
       "\n",
       "A matrix: 2 × 7 of type dbl\n",
       "\n",
       "| <!--/--> | ME | RMSE | MAE | MPE | MAPE | MASE | ACF1 |\n",
       "|---|---|---|---|---|---|---|---|\n",
       "| Training set | -13.16763 | 108.69589 | 49.66627 |  -50.88396 |  55.86038 | 0.4078841 | 0.424166 |\n",
       "| Test set | -75.15074 |  81.15021 | 75.15074 | -114.91218 | 114.91218 | 0.6171752 |       NA |\n",
       "\n"
      ],
      "text/plain": [
       "             ME        RMSE      MAE      MPE        MAPE      MASE     \n",
       "Training set -13.16763 108.69589 49.66627  -50.88396  55.86038 0.4078841\n",
       "Test set     -75.15074  81.15021 75.15074 -114.91218 114.91218 0.6171752\n",
       "             ACF1    \n",
       "Training set 0.424166\n",
       "Test set           NA"
      ]
     },
     "metadata": {},
     "output_type": "display_data"
    }
   ],
   "source": [
    "accuracy(fc.hw2,departures[133:138])\n",
    "#Since seasonal variations are changing proportional to the level of the series, multiplicative is more suited. This is also confirmed with the low RMSE"
   ]
  },
  {
   "cell_type": "code",
   "execution_count": 65,
   "id": "20840861",
   "metadata": {},
   "outputs": [
    {
     "data": {
      "text/plain": [
       "         Point Forecast      Lo 80     Hi 80       Lo 95     Hi 95\n",
       "Jan 2021       86.09848  -56.61566  228.8126  -132.16396  304.3609\n",
       "Feb 2021       66.99705 -136.20984  270.2039  -243.78107  377.7752\n",
       "Mar 2021      192.64903  -57.92808  443.2261  -190.57558  575.8736\n",
       "Apr 2021      262.04848  -29.26326  553.3602  -183.47437  707.5713\n",
       "May 2021      391.47076   63.56586  719.3757  -110.01652  892.9580\n",
       "Jun 2021      542.36809  180.74141  903.9948   -10.69219 1095.4284\n",
       "Jul 2021      649.41822  256.19200 1042.6444    48.03061 1250.8058\n",
       "Aug 2021      598.29941  175.11114 1021.4877   -48.91121 1245.5100\n",
       "Sep 2021      412.11696  -39.73023  863.9641  -278.92369 1103.1576\n",
       "Oct 2021      345.02878 -134.41592  824.4735  -388.21861 1078.2762\n",
       "Nov 2021       59.90669 -446.25534  566.0687  -714.20133  834.0147\n",
       "Dec 2021       45.45262 -486.68634  577.5916  -768.38368  859.2889\n",
       "Jan 2022      -24.54887 -582.03901  532.9413  -877.15646  828.0587\n",
       "Feb 2022      -43.65031 -625.94603  538.6454  -934.19477  846.8941\n",
       "Mar 2022       82.00167 -524.63121  688.6346  -845.76326 1009.7666\n",
       "Apr 2022      151.40112 -479.16081  781.9631  -812.96013 1115.7624\n",
       "May 2022      280.82341 -373.31011  934.9569  -719.58748 1281.2343\n",
       "Jun 2022      431.72073 -245.66988 1109.1113  -604.25881 1467.7003\n",
       "Jul 2022      538.77086 -161.59916 1239.1409  -532.35265 1609.8944\n",
       "Aug 2022      487.65206 -235.45145 1210.7556  -618.23933 1593.5434\n",
       "Sep 2022      301.46960 -444.14912 1047.0883  -838.85582 1441.7950\n",
       "Oct 2022      234.38143 -533.55840 1002.3213  -940.08119 1408.8440\n",
       "Nov 2022      -50.74067 -840.82882  739.3475 -1259.07622 1157.5949\n",
       "Dec 2022      -65.19473 -877.27727  746.8878 -1307.16779 1176.7783"
      ]
     },
     "metadata": {},
     "output_type": "display_data"
    }
   ],
   "source": [
    "forecast(fcast.hw1,departures[133,138])"
   ]
  },
  {
   "cell_type": "markdown",
   "id": "f7edd55a",
   "metadata": {},
   "source": [
    "### Exponential Smoothing(model='ZZZ')"
   ]
  },
  {
   "cell_type": "code",
   "execution_count": 66,
   "id": "0f217446",
   "metadata": {},
   "outputs": [],
   "source": [
    "dep<-ts(departures[1:132],start=c(2010,1),frequency=12)"
   ]
  },
  {
   "cell_type": "code",
   "execution_count": 67,
   "id": "2a8c7c0c",
   "metadata": {},
   "outputs": [
    {
     "data": {
      "text/plain": [
       "ETS(A,Ad,A) \n",
       "\n",
       "Call:\n",
       " ets(y = dep, model = \"ZZZ\") \n",
       "\n",
       "  Smoothing parameters:\n",
       "    alpha = 0.9999 \n",
       "    beta  = 0.1413 \n",
       "    gamma = 1e-04 \n",
       "    phi   = 0.8 \n",
       "\n",
       "  Initial states:\n",
       "    l = 962.4632 \n",
       "    b = 4.7834 \n",
       "    s = -208.2974 -202.7917 72.2755 130.9762 307.6094 349.7194\n",
       "           233.3971 73.3278 -65.9956 -144.2698 -278.4757 -267.4752\n",
       "\n",
       "  sigma:  107.7625\n",
       "\n",
       "     AIC     AICc      BIC \n",
       "1897.832 1903.886 1949.723 \n",
       "\n",
       "Training set error measures:\n",
       "                    ME     RMSE     MAE       MPE     MAPE      MASE      ACF1\n",
       "Training set -2.425368 100.5841 52.8242 -30.07175 41.14341 0.2738436 0.2759947"
      ]
     },
     "metadata": {},
     "output_type": "display_data"
    }
   ],
   "source": [
    "fcast.zzz <- ets(dep, model='ZZZ')\n",
    "summary(fcast.zzz)"
   ]
  },
  {
   "cell_type": "code",
   "execution_count": 68,
   "id": "a4d22cb2",
   "metadata": {},
   "outputs": [],
   "source": [
    "fc.zzz<- forecast(fcast.zzz,h=6)"
   ]
  },
  {
   "cell_type": "code",
   "execution_count": 69,
   "id": "488835d9",
   "metadata": {},
   "outputs": [
    {
     "data": {
      "text/plain": [
       "         Point Forecast     Lo 80     Hi 80      Lo 95     Hi 95\n",
       "Jan 2021       120.1400 -17.96313  258.2432  -91.07053  331.3506\n",
       "Feb 2021       127.7165 -78.91624  334.3493 -188.30103  443.7341\n",
       "Mar 2021       276.7834  11.60873  541.9580 -128.76624  682.3329\n",
       "Apr 2021       366.9147  48.54473  685.2846 -119.99014  853.8195\n",
       "May 2021       515.7952 147.98794  883.6024  -46.71744 1078.3078\n",
       "Jun 2021       683.4642 269.21589 1097.7125   49.92609 1317.0023"
      ]
     },
     "metadata": {},
     "output_type": "display_data"
    }
   ],
   "source": [
    "fc.zzz"
   ]
  },
  {
   "cell_type": "code",
   "execution_count": 70,
   "id": "91d2d713",
   "metadata": {},
   "outputs": [],
   "source": [
    "dept<-ts(departures,start=c(2010,1),frequency=12)"
   ]
  },
  {
   "cell_type": "code",
   "execution_count": 71,
   "id": "7ba4ee79",
   "metadata": {},
   "outputs": [
    {
     "data": {
      "image/png": "[encoded data removed]",
      "text/plain": [
       "Plot with title \"Forecasts from ETS(A,Ad,A)\""
      ]
     },
     "metadata": {
      "image/png": {
       "height": 420,
       "width": 420
      }
     },
     "output_type": "display_data"
    }
   ],
   "source": [
    "plot(fc.zzz, lw=2, col='blue',xlim=c(2019,2021.5))\n",
    "x <- as.vector(time(dep))\n",
    "y <- fcast.zzz$fitted\n",
    "lines(x, y, col='black', lw=4)"
   ]
  },
  {
   "cell_type": "code",
   "execution_count": 72,
   "id": "0454ce57",
   "metadata": {},
   "outputs": [
    {
     "data": {
      "text/html": [
       "<table class=\"dataframe\">\n",
       "<caption>A matrix: 2 × 7 of type dbl</caption>\n",
       "<thead>\n",
       "\t<tr><th></th><th scope=col>ME</th><th scope=col>RMSE</th><th scope=col>MAE</th><th scope=col>MPE</th><th scope=col>MAPE</th><th scope=col>MASE</th><th scope=col>ACF1</th></tr>\n",
       "</thead>\n",
       "<tbody>\n",
       "\t<tr><th scope=row>Training set</th><td>  -2.425368</td><td>100.5841</td><td> 52.8242</td><td> -30.07175</td><td> 41.14341</td><td>0.4338185</td><td>0.2759947</td></tr>\n",
       "\t<tr><th scope=row>Test set</th><td>-260.652328</td><td>314.8695</td><td>260.6523</td><td>-314.00825</td><td>314.00825</td><td>2.1406064</td><td>       NA</td></tr>\n",
       "</tbody>\n",
       "</table>\n"
      ],
      "text/latex": [
       "A matrix: 2 × 7 of type dbl\n",
       "\\begin{tabular}{r|lllllll}\n",
       "  & ME & RMSE & MAE & MPE & MAPE & MASE & ACF1\\\\\n",
       "\\hline\n",
       "\tTraining set &   -2.425368 & 100.5841 &  52.8242 &  -30.07175 &  41.14341 & 0.4338185 & 0.2759947\\\\\n",
       "\tTest set & -260.652328 & 314.8695 & 260.6523 & -314.00825 & 314.00825 & 2.1406064 &        NA\\\\\n",
       "\\end{tabular}\n"
      ],
      "text/markdown": [
       "\n",
       "A matrix: 2 × 7 of type dbl\n",
       "\n",
       "| <!--/--> | ME | RMSE | MAE | MPE | MAPE | MASE | ACF1 |\n",
       "|---|---|---|---|---|---|---|---|\n",
       "| Training set |   -2.425368 | 100.5841 |  52.8242 |  -30.07175 |  41.14341 | 0.4338185 | 0.2759947 |\n",
       "| Test set | -260.652328 | 314.8695 | 260.6523 | -314.00825 | 314.00825 | 2.1406064 |        NA |\n",
       "\n"
      ],
      "text/plain": [
       "             ME          RMSE     MAE      MPE        MAPE      MASE     \n",
       "Training set   -2.425368 100.5841  52.8242  -30.07175  41.14341 0.4338185\n",
       "Test set     -260.652328 314.8695 260.6523 -314.00825 314.00825 2.1406064\n",
       "             ACF1     \n",
       "Training set 0.2759947\n",
       "Test set            NA"
      ]
     },
     "metadata": {},
     "output_type": "display_data"
    }
   ],
   "source": [
    "accuracy(fc.zzz,departures[133:138])\n",
    "#Lowest RMSE for test data"
   ]
  },
  {
   "cell_type": "markdown",
   "id": "fb89083c",
   "metadata": {},
   "source": [
    "### ARIMA"
   ]
  },
  {
   "cell_type": "code",
   "execution_count": 73,
   "id": "157b56d8",
   "metadata": {},
   "outputs": [
    {
     "data": {
      "image/png": "[encoded data removed]",
      "text/plain": [
       "plot without title"
      ]
     },
     "metadata": {
      "image/png": {
       "height": 420,
       "width": 420
      }
     },
     "output_type": "display_data"
    }
   ],
   "source": [
    "plot(departures)"
   ]
  },
  {
   "cell_type": "code",
   "execution_count": 74,
   "id": "49e5b897",
   "metadata": {},
   "outputs": [],
   "source": [
    "ldepartures<-log(departures)"
   ]
  },
  {
   "cell_type": "code",
   "execution_count": 75,
   "id": "5ef68012",
   "metadata": {},
   "outputs": [
    {
     "data": {
      "image/png": "[encoded data removed]",
      "text/plain": [
       "plot without title"
      ]
     },
     "metadata": {
      "image/png": {
       "height": 420,
       "width": 420
      }
     },
     "output_type": "display_data"
    }
   ],
   "source": [
    "plot(ldepartures)\n",
    "#Log transformation to get a constant variation\n",
    "#There still is seasonality and trend"
   ]
  },
  {
   "cell_type": "code",
   "execution_count": 76,
   "id": "18c4916f",
   "metadata": {},
   "outputs": [
    {
     "data": {
      "text/html": [
       "1"
      ],
      "text/latex": [
       "1"
      ],
      "text/markdown": [
       "1"
      ],
      "text/plain": [
       "[1] 1"
      ]
     },
     "metadata": {},
     "output_type": "display_data"
    }
   ],
   "source": [
    "ndiffs(ldepartures)\n",
    "#We need to do diff of order 1 to get a stationary time series without seasonality and trends"
   ]
  },
  {
   "cell_type": "code",
   "execution_count": 77,
   "id": "32a372b6",
   "metadata": {},
   "outputs": [],
   "source": [
    "dldepartures<-diff(ldepartures)"
   ]
  },
  {
   "cell_type": "code",
   "execution_count": 78,
   "id": "047cd0c7",
   "metadata": {},
   "outputs": [
    {
     "data": {
      "image/png": "[encoded data removed]",
      "text/plain": [
       "plot without title"
      ]
     },
     "metadata": {
      "image/png": {
       "height": 420,
       "width": 420
      }
     },
     "output_type": "display_data"
    }
   ],
   "source": [
    "plot(dldepartures)"
   ]
  },
  {
   "cell_type": "code",
   "execution_count": 79,
   "id": "072097e6",
   "metadata": {},
   "outputs": [
    {
     "name": "stderr",
     "output_type": "stream",
     "text": [
      "\n",
      "Attaching package: 'aTSA'\n",
      "\n",
      "\n",
      "The following object is masked from 'package:forecast':\n",
      "\n",
      "    forecast\n",
      "\n",
      "\n",
      "The following object is masked from 'package:graphics':\n",
      "\n",
      "    identify\n",
      "\n",
      "\n"
     ]
    }
   ],
   "source": [
    "library('aTSA')"
   ]
  },
  {
   "cell_type": "code",
   "execution_count": 80,
   "id": "a8c1d3ec",
   "metadata": {},
   "outputs": [
    {
     "name": "stdout",
     "output_type": "stream",
     "text": [
      "Augmented Dickey-Fuller Test \n",
      "alternative: stationary \n",
      " \n",
      "Type 1: no drift no trend \n",
      "     lag    ADF p.value\n",
      "[1,]   0 -10.33    0.01\n",
      "[2,]   1  -8.61    0.01\n",
      "[3,]   2  -8.79    0.01\n",
      "[4,]   3  -7.71    0.01\n",
      "[5,]   4  -6.24    0.01\n",
      "Type 2: with drift no trend \n",
      "     lag    ADF p.value\n",
      "[1,]   0 -10.29    0.01\n",
      "[2,]   1  -8.58    0.01\n",
      "[3,]   2  -8.77    0.01\n",
      "[4,]   3  -7.69    0.01\n",
      "[5,]   4  -6.22    0.01\n",
      "Type 3: with drift and trend \n",
      "     lag    ADF p.value\n",
      "[1,]   0 -10.26    0.01\n",
      "[2,]   1  -8.55    0.01\n",
      "[3,]   2  -8.74    0.01\n",
      "[4,]   3  -7.67    0.01\n",
      "[5,]   4  -6.21    0.01\n",
      "---- \n",
      "Note: in fact, p.value = 0.01 means p.value <= 0.01 \n"
     ]
    }
   ],
   "source": [
    "adf.test(dldepartures)\n",
    "# Augmented dickey fuller test is significant, therefore the ts is now stationary"
   ]
  },
  {
   "cell_type": "code",
   "execution_count": 81,
   "id": "c32ec36e",
   "metadata": {},
   "outputs": [
    {
     "data": {
      "image/png": "[encoded data removed]",
      "text/plain": [
       "Plot with title \"PACF\""
      ]
     },
     "metadata": {
      "image/png": {
       "height": 420,
       "width": 420
      }
     },
     "output_type": "display_data"
    }
   ],
   "source": [
    "layout(mat = matrix(c(1,1,2,3), nrow=2, ncol=2, byrow=TRUE))\n",
    "  plot(dldepartures, main= 'Stationary AirPassengers')\n",
    "  acf(dldepartures, main='ACF')\n",
    "  pacf(dldepartures, main='PACF')"
   ]
  },
  {
   "cell_type": "code",
   "execution_count": 82,
   "id": "dc3f5230",
   "metadata": {},
   "outputs": [
    {
     "data": {
      "text/plain": [
       "Series: departures[1:132] \n",
       "ARIMA(4,1,1) \n",
       "\n",
       "Coefficients:\n",
       "         ar1     ar2      ar3      ar4      ma1\n",
       "      0.8071  0.1330  -0.2036  -0.2292  -0.5936\n",
       "s.e.  0.1391  0.1187   0.1190   0.1031   0.1226\n",
       "\n",
       "sigma^2 = 16675:  log likelihood = -820.68\n",
       "AIC=1653.35   AICc=1654.03   BIC=1670.6\n",
       "\n",
       "Training set error measures:\n",
       "                    ME     RMSE      MAE       MPE     MAPE      MASE\n",
       "Training set -4.927458 126.1635 91.03754 -24.77013 48.11854 0.7476455\n",
       "                   ACF1\n",
       "Training set 0.01075261"
      ]
     },
     "metadata": {},
     "output_type": "display_data"
    }
   ],
   "source": [
    "fcast.auto.arima<-auto.arima(departures[1:132],stepwise=FALSE,approximation=FALSE)\n",
    "summary(fcast.auto.arima)"
   ]
  },
  {
   "cell_type": "code",
   "execution_count": 83,
   "id": "5ca5d4e5",
   "metadata": {},
   "outputs": [],
   "source": [
    "fcast.auto.arima<-arima(departures[1:132], order=c(4,1,1))"
   ]
  },
  {
   "cell_type": "code",
   "execution_count": 84,
   "id": "c40985a3",
   "metadata": {},
   "outputs": [
    {
     "data": {
      "image/png": "[encoded data removed]",
      "text/plain": [
       "plot without title"
      ]
     },
     "metadata": {
      "image/png": {
       "height": 420,
       "width": 420
      }
     },
     "output_type": "display_data"
    }
   ],
   "source": [
    "plot(fcast.auto.arima$residuals)"
   ]
  },
  {
   "cell_type": "code",
   "execution_count": 85,
   "id": "97ce4c96",
   "metadata": {},
   "outputs": [
    {
     "data": {
      "image/png": "[encoded data removed]",
      "text/plain": [
       "Plot with title \"Normal Q-Q Plot\""
      ]
     },
     "metadata": {
      "image/png": {
       "height": 420,
       "width": 420
      }
     },
     "output_type": "display_data"
    }
   ],
   "source": [
    "qqnorm(fcast.auto.arima$residuals)\n",
    "qqline(fcast.auto.arima$residuals)\n",
    "#Error terms are normally distributed"
   ]
  },
  {
   "cell_type": "code",
   "execution_count": 86,
   "id": "eea4e48f",
   "metadata": {},
   "outputs": [
    {
     "data": {
      "text/plain": [
       "\n",
       "\tBox-Ljung test\n",
       "\n",
       "data:  fcast.auto.arima$residual\n",
       "X-squared = 0.015611, df = 1, p-value = 0.9006\n"
      ]
     },
     "metadata": {},
     "output_type": "display_data"
    }
   ],
   "source": [
    "Box.test(fcast.auto.arima$residual, type='Ljung')\n",
    "#The value is not significant therefore no autocorrelation"
   ]
  },
  {
   "cell_type": "code",
   "execution_count": 87,
   "id": "c86d57a4",
   "metadata": {},
   "outputs": [
    {
     "name": "stdout",
     "output_type": "stream",
     "text": [
      "Forecast for univariate time series: \n",
      "    Lead Forecast S.E  Lower Upper\n",
      "133    1      172 127  -76.4   420\n",
      "134    2      220 199 -170.8   610\n",
      "135    3      259 277 -283.6   802\n",
      "136    4      278 342 -393.1   949\n",
      "137    5      285 386 -472.3  1042\n",
      "138    6      274 414 -537.1  1086\n",
      "------ \n",
      "Note: confidence level = 95 % \n"
     ]
    },
    {
     "data": {
      "image/png": "[encoded data removed]",
      "text/plain": [
       "plot without title"
      ]
     },
     "metadata": {
      "image/png": {
       "height": 420,
       "width": 420
      }
     },
     "output_type": "display_data"
    }
   ],
   "source": [
    "fc.auto.arima<-forecast(fcast.auto.arima, 6)"
   ]
  },
  {
   "cell_type": "code",
   "execution_count": 88,
   "id": "995372cc",
   "metadata": {},
   "outputs": [
    {
     "data": {
      "text/html": [
       "<table class=\"dataframe\">\n",
       "<caption>A matrix: 1 × 5 of type dbl</caption>\n",
       "<thead>\n",
       "\t<tr><th></th><th scope=col>ME</th><th scope=col>RMSE</th><th scope=col>MAE</th><th scope=col>MPE</th><th scope=col>MAPE</th></tr>\n",
       "</thead>\n",
       "<tbody>\n",
       "\t<tr><th scope=row>Test set</th><td>-160.1338</td><td>169.7642</td><td>160.1338</td><td>-240.0872</td><td>240.0872</td></tr>\n",
       "</tbody>\n",
       "</table>\n"
      ],
      "text/latex": [
       "A matrix: 1 × 5 of type dbl\n",
       "\\begin{tabular}{r|lllll}\n",
       "  & ME & RMSE & MAE & MPE & MAPE\\\\\n",
       "\\hline\n",
       "\tTest set & -160.1338 & 169.7642 & 160.1338 & -240.0872 & 240.0872\\\\\n",
       "\\end{tabular}\n"
      ],
      "text/markdown": [
       "\n",
       "A matrix: 1 × 5 of type dbl\n",
       "\n",
       "| <!--/--> | ME | RMSE | MAE | MPE | MAPE |\n",
       "|---|---|---|---|---|---|\n",
       "| Test set | -160.1338 | 169.7642 | 160.1338 | -240.0872 | 240.0872 |\n",
       "\n"
      ],
      "text/plain": [
       "         ME        RMSE     MAE      MPE       MAPE    \n",
       "Test set -160.1338 169.7642 160.1338 -240.0872 240.0872"
      ]
     },
     "metadata": {},
     "output_type": "display_data"
    }
   ],
   "source": [
    "accuracy(fc.auto.arima[,'Forecast'],departures[133:138])"
   ]
  },
  {
   "cell_type": "markdown",
   "id": "34a614b1",
   "metadata": {},
   "source": [
    "### SARIMA"
   ]
  },
  {
   "cell_type": "code",
   "execution_count": 89,
   "id": "9b23e8f4",
   "metadata": {},
   "outputs": [],
   "source": [
    "dep<-ts(departures[1:132],start=c(2010,1), frequency=12)"
   ]
  },
  {
   "cell_type": "code",
   "execution_count": 90,
   "id": "21143cbc",
   "metadata": {},
   "outputs": [
    {
     "data": {
      "text/plain": [
       "Series: dep \n",
       "ARIMA(1,1,0)(0,1,1)[12] \n",
       "\n",
       "Coefficients:\n",
       "         ar1     sma1\n",
       "      0.3966  -0.8274\n",
       "s.e.  0.0837   0.2046\n",
       "\n",
       "sigma^2 = 11307:  log likelihood = -730.08\n",
       "AIC=1466.16   AICc=1466.37   BIC=1474.5\n",
       "\n",
       "Training set error measures:\n",
       "                    ME     RMSE      MAE       MPE     MAPE     MASE\n",
       "Training set -4.243693 100.1111 50.25274 -18.05207 35.48415 0.260513\n",
       "                     ACF1\n",
       "Training set -0.002229607"
      ]
     },
     "metadata": {},
     "output_type": "display_data"
    }
   ],
   "source": [
    "fcast.auto.sarima<-auto.arima(dep,stepwise=FALSE,approximation=FALSE)\n",
    "summary(fcast.auto.sarima)"
   ]
  },
  {
   "cell_type": "code",
   "execution_count": 91,
   "id": "64e9f08b",
   "metadata": {},
   "outputs": [],
   "source": [
    "fcast.auto.sarima<-arima(dep, order=c(1,1,0), seasonal=c(0,1,1))"
   ]
  },
  {
   "cell_type": "code",
   "execution_count": 92,
   "id": "267f8c07",
   "metadata": {},
   "outputs": [
    {
     "data": {
      "image/png": "[encoded data removed]",
      "text/plain": [
       "plot without title"
      ]
     },
     "metadata": {
      "image/png": {
       "height": 420,
       "width": 420
      }
     },
     "output_type": "display_data"
    }
   ],
   "source": [
    "plot(fcast.auto.sarima$residuals)"
   ]
  },
  {
   "cell_type": "code",
   "execution_count": 93,
   "id": "612a9c1c",
   "metadata": {},
   "outputs": [
    {
     "data": {
      "image/png": "[encoded data removed]",
      "text/plain": [
       "Plot with title \"Normal Q-Q Plot\""
      ]
     },
     "metadata": {
      "image/png": {
       "height": 420,
       "width": 420
      }
     },
     "output_type": "display_data"
    }
   ],
   "source": [
    "qqnorm(fcast.auto.sarima$residuals)\n",
    "qqline(fcast.auto.sarima$residuals)"
   ]
  },
  {
   "cell_type": "code",
   "execution_count": 94,
   "id": "bbfee28b",
   "metadata": {},
   "outputs": [
    {
     "data": {
      "text/plain": [
       "\n",
       "\tBox-Ljung test\n",
       "\n",
       "data:  fcast.auto.sarima$residual\n",
       "X-squared = 0.00067122, df = 1, p-value = 0.9793\n"
      ]
     },
     "metadata": {},
     "output_type": "display_data"
    }
   ],
   "source": [
    "Box.test(fcast.auto.sarima$residual, type='Ljung')\n",
    "#The value is not significant therefore no autocorrelation"
   ]
  },
  {
   "cell_type": "code",
   "execution_count": 95,
   "id": "f6c8ab6e",
   "metadata": {},
   "outputs": [
    {
     "name": "stdout",
     "output_type": "stream",
     "text": [
      "Forecast for univariate time series: \n",
      "    Lead Forecast S.E Lower Upper\n",
      "133    1    104.5 106  -103   312\n",
      "134    2     94.4 182  -262   450\n",
      "135    3    168.7 245  -311   649\n",
      "136    4    182.0 299  -403   767\n",
      "137    5    312.8 345  -364   990\n",
      "138    6    466.7 387  -292  1225\n",
      "------ \n",
      "Note: confidence level = 95 % \n"
     ]
    },
    {
     "data": {
      "image/png": "[encoded data removed]",
      "text/plain": [
       "plot without title"
      ]
     },
     "metadata": {
      "image/png": {
       "height": 420,
       "width": 420
      }
     },
     "output_type": "display_data"
    }
   ],
   "source": [
    "fc.auto.sarima<-forecast(fcast.auto.sarima, 6)"
   ]
  },
  {
   "cell_type": "code",
   "execution_count": 96,
   "id": "ed898db6",
   "metadata": {},
   "outputs": [
    {
     "data": {
      "text/html": [
       "<table class=\"dataframe\">\n",
       "<caption>A matrix: 1 × 5 of type dbl</caption>\n",
       "<thead>\n",
       "\t<tr><th></th><th scope=col>ME</th><th scope=col>RMSE</th><th scope=col>MAE</th><th scope=col>MPE</th><th scope=col>MAPE</th></tr>\n",
       "</thead>\n",
       "<tbody>\n",
       "\t<tr><th scope=row>Test set</th><td>-133.6793</td><td>167.0697</td><td>133.6793</td><td>-156.4138</td><td>156.4138</td></tr>\n",
       "</tbody>\n",
       "</table>\n"
      ],
      "text/latex": [
       "A matrix: 1 × 5 of type dbl\n",
       "\\begin{tabular}{r|lllll}\n",
       "  & ME & RMSE & MAE & MPE & MAPE\\\\\n",
       "\\hline\n",
       "\tTest set & -133.6793 & 167.0697 & 133.6793 & -156.4138 & 156.4138\\\\\n",
       "\\end{tabular}\n"
      ],
      "text/markdown": [
       "\n",
       "A matrix: 1 × 5 of type dbl\n",
       "\n",
       "| <!--/--> | ME | RMSE | MAE | MPE | MAPE |\n",
       "|---|---|---|---|---|---|\n",
       "| Test set | -133.6793 | 167.0697 | 133.6793 | -156.4138 | 156.4138 |\n",
       "\n"
      ],
      "text/plain": [
       "         ME        RMSE     MAE      MPE       MAPE    \n",
       "Test set -133.6793 167.0697 133.6793 -156.4138 156.4138"
      ]
     },
     "metadata": {},
     "output_type": "display_data"
    }
   ],
   "source": [
    "accuracy(fc.auto.sarima[,'Forecast'],departures[133:138])"
   ]
  }
 ],
 "metadata": {
  "kernelspec": {
   "display_name": "R 4.2.2",
   "language": "R",
   "name": "ir42"
  },
  "language_info": {
   "codemirror_mode": "r",
   "file_extension": ".r",
   "mimetype": "text/x-r-source",
   "name": "R",
   "pygments_lexer": "r",
   "version": "4.2.2"
  }
 },
 "nbformat": 4,
 "nbformat_minor": 5
}
